{
  "nbformat": 4,
  "nbformat_minor": 0,
  "metadata": {
    "colab": {
      "name": "A.I Unitas, Introduction to Python.ipynb",
      "provenance": [],
      "collapsed_sections": [
        "T6PkJFgkPDX-",
        "gIubh7KfgqNc"
      ]
    },
    "kernelspec": {
      "display_name": "Python 3",
      "language": "python",
      "name": "python3"
    },
    "language_info": {
      "codemirror_mode": {
        "name": "ipython",
        "version": 3
      },
      "file_extension": ".py",
      "mimetype": "text/x-python",
      "name": "python",
      "nbconvert_exporter": "python",
      "pygments_lexer": "ipython3",
      "version": "3.6.5"
    }
  },
  "cells": [
    {
      "cell_type": "markdown",
      "metadata": {
        "id": "Vr1JmhnxhuQ8"
      },
      "source": [
        "# **A.I UNITAS**\n",
        "## **Introduction to Python**\n",
        "### *John Leo, Source By Fast Campus*"
      ]
    },
    {
      "cell_type": "markdown",
      "metadata": {
        "id": "P-YL0j5P_IFG"
      },
      "source": [
        "#**Python에서 변수의 의미 이해하기 & 기본 데이터 타입 선언하기**\n",
        " - int, float, str, bool"
      ]
    },
    {
      "cell_type": "markdown",
      "metadata": {
        "id": "wm_sFDN6_IFr"
      },
      "source": [
        "### 기본 데이터 타입\n",
        "* variable declaration & value assignment (변수 선언 및 값 할당)"
      ]
    },
    {
      "cell_type": "markdown",
      "metadata": {
        "id": "WJbymiQd_IFu"
      },
      "source": [
        "##### =  대입 연산자,  ==  비교 연산자 \n",
        " - 대입의 경우, 오른쪽의 수식이나 값을 evaluation(여기서는 계산이라는 의미로 사용) 한 뒤, \n",
        " - 왼쪽에 명시된 변수에 해당 값을 대입\n",
        " - 변수는 해당 값을 가지게 됨"
      ]
    },
    {
      "cell_type": "code",
      "metadata": {
        "colab": {
          "base_uri": "https://localhost:8080/"
        },
        "id": "B-6SAeKy_IFw",
        "outputId": "1c0c9790-304c-4d34-ef4a-e5b2dd1eb426"
      },
      "source": [
        "a = 1 # int\n",
        "b = 12.4 # float\n",
        "\n",
        "a == b"
      ],
      "execution_count": null,
      "outputs": [
        {
          "output_type": "execute_result",
          "data": {
            "text/plain": [
              "False"
            ]
          },
          "metadata": {
            "tags": []
          },
          "execution_count": 2
        }
      ]
    },
    {
      "cell_type": "markdown",
      "metadata": {
        "id": "h7S32Aqf_IFz"
      },
      "source": [
        "#### **comment(주석)**\n",
        "  - 코드에서 #으로 시작하는 뒷 부분은 실행되지 않음\n",
        "  - python이 소스코드를 실행하면서 #를 만나면 무시\n",
        "  - 개발자(사람)가 보기 위한 용도로 사용"
      ]
    },
    {
      "cell_type": "code",
      "metadata": {
        "id": "Gc85WGmG_IF1"
      },
      "source": [
        "# this line is not interpreted"
      ],
      "execution_count": null,
      "outputs": []
    },
    {
      "cell_type": "markdown",
      "metadata": {
        "id": "Scv5IzPM_IF2"
      },
      "source": [
        "#### **print 함수**\n",
        "  - 함수란 특정 기능을 반복적으로 호출하여 사용가능한 코드블럭\n",
        "  - 해당 변수의 값을 출력\n",
        "  - , 로 여러 변수를 나열하면 한줄에 출력\n",
        "  - 기본적으로는 한칸 띄어쓰기 후 출력"
      ]
    },
    {
      "cell_type": "code",
      "metadata": {
        "colab": {
          "base_uri": "https://localhost:8080/"
        },
        "id": "Dc5gPkFi_IF6",
        "outputId": "9eb2ec32-d744-4b49-9033-9212b383201a"
      },
      "source": [
        "a = 1\n",
        "b = 3\n",
        "c= 5\n",
        "\n",
        "print(a,b,c)\n",
        "print(a,b,c)"
      ],
      "execution_count": null,
      "outputs": [
        {
          "output_type": "stream",
          "text": [
            "1 3 5\n",
            "1 3 5\n"
          ],
          "name": "stdout"
        }
      ]
    },
    {
      "cell_type": "markdown",
      "metadata": {
        "id": "-TeN6QBy_IF7"
      },
      "source": [
        "* **print함수 설정**\n",
        " - sep : 구분자, 각 출력할 변수 사이에서 구별하는 역할을 함\n",
        " - end : 마지막에 출력할 문자열"
      ]
    },
    {
      "cell_type": "code",
      "metadata": {
        "colab": {
          "base_uri": "https://localhost:8080/"
        },
        "id": "YNVdYnmm_IF8",
        "outputId": "df490a30-5207-4fa7-e2eb-5728cf80506c"
      },
      "source": [
        "print(a, b, c, sep=\"*\", end=\"&\")\n",
        "print(a, b, c, sep=\"\", end=\"&\")"
      ],
      "execution_count": null,
      "outputs": [
        {
          "output_type": "stream",
          "text": [
            "1*3*5&135&"
          ],
          "name": "stdout"
        }
      ]
    },
    {
      "cell_type": "markdown",
      "metadata": {
        "id": "rW3gFGk__IF9"
      },
      "source": [
        "#### **변수 값 확인법**\n",
        " - print() 함수 사용\n",
        " - 변수 값을 코드의 마지막에 위치 시킨 후 실행\n",
        "   - 이 경우 output으로 변수의 값이 출력"
      ]
    },
    {
      "cell_type": "code",
      "metadata": {
        "colab": {
          "base_uri": "https://localhost:8080/"
        },
        "id": "rhSQ25nu_IF-",
        "outputId": "966a2ed7-9086-4abb-a0c0-dede165a731e"
      },
      "source": [
        ""
      ],
      "execution_count": null,
      "outputs": [
        {
          "output_type": "stream",
          "text": [
            "hello\n"
          ],
          "name": "stdout"
        }
      ]
    },
    {
      "cell_type": "markdown",
      "metadata": {
        "id": "PIJkSNlA_IF-"
      },
      "source": [
        "#### **variable naming (변수 이름 규칙)**\n",
        "  - 숫자로 시작하는 이름을 제외하고 영문 대소문자, _, 숫자로 구성가능 \n",
        "  - 아래의 예제는 모두 valid한 변수 이름\n",
        "  - 일반적으로 해당 변수를 표현하고자 하는 정확하고 간결한 이름을 사용하는 것이 원칙\n",
        "    - 코드를 읽은 것을 더 쉽게 할 수 있음\n",
        "    - e.g) a = 1000의 경우보다 **student_num = 1000**로 명시한 것이 변수에 대한 이해가 빠름"
      ]
    },
    {
      "cell_type": "code",
      "metadata": {
        "colab": {
          "base_uri": "https://localhost:8080/",
          "height": 130
        },
        "id": "dt_fQhiI_IGA",
        "outputId": "0f500192-6235-4f65-af06-460490415fd2"
      },
      "source": [
        "abc_123\n",
        "ABC_123\n",
        "_ABCabc\n",
        "_123abc"
      ],
      "execution_count": null,
      "outputs": [
        {
          "output_type": "error",
          "ename": "SyntaxError",
          "evalue": "ignored",
          "traceback": [
            "\u001b[0;36m  File \u001b[0;32m\"<ipython-input-17-2f4065b1a1ef>\"\u001b[0;36m, line \u001b[0;32m4\u001b[0m\n\u001b[0;31m    123abc\u001b[0m\n\u001b[0m         ^\u001b[0m\n\u001b[0;31mSyntaxError\u001b[0m\u001b[0;31m:\u001b[0m invalid syntax\n"
          ]
        }
      ]
    },
    {
      "cell_type": "markdown",
      "metadata": {
        "id": "bGFpL-EJ_IGB"
      },
      "source": [
        "* **invalid한 변수 이름의 예**\n",
        " - 숫자로 시작하면 안되는 이유는?"
      ]
    },
    {
      "cell_type": "code",
      "metadata": {
        "id": "Uig1Zqqy_IGC"
      },
      "source": [
        ""
      ],
      "execution_count": null,
      "outputs": []
    },
    {
      "cell_type": "markdown",
      "metadata": {
        "id": "aqQJhHU3_IGE"
      },
      "source": [
        "#### **reserved keywords (예약어)**\n",
        "  - python에서 미리 선점하여 사용중인 키워드\n",
        "  - 변수, 함수, 클래스 등등의 사용자 정의 이름으로 사용할 수 없음\n",
        "  - _랑은 같이 쓸 수 있음"
      ]
    },
    {
      "cell_type": "code",
      "metadata": {
        "id": "me0o6jIg_IGH"
      },
      "source": [
        "class def except try if else elif while"
      ],
      "execution_count": null,
      "outputs": []
    },
    {
      "cell_type": "code",
      "metadata": {
        "id": "yj2mV9KKptWa",
        "colab": {
          "base_uri": "https://localhost:8080/"
        },
        "outputId": "932262f2-2a22-436f-9e4e-e220f453dba8"
      },
      "source": [
        ""
      ],
      "execution_count": null,
      "outputs": [
        {
          "output_type": "stream",
          "text": [
            "1\n"
          ],
          "name": "stdout"
        }
      ]
    },
    {
      "cell_type": "markdown",
      "metadata": {
        "id": "rbl2-Ea5_IGI"
      },
      "source": [
        "### 기본 데이터 타입 \n",
        "  - 정수 (int)\n",
        "  - 실수 (float)\n",
        "  - 문자열 (str)\n",
        "  - 불리언 (boolean)"
      ]
    },
    {
      "cell_type": "markdown",
      "metadata": {
        "id": "0zS6iEmi_IGJ"
      },
      "source": [
        "#### type 함수\n",
        " - 해당 변수, 값의 타입(type)을 알고자 할 때 사용"
      ]
    },
    {
      "cell_type": "code",
      "metadata": {
        "colab": {
          "base_uri": "https://localhost:8080/"
        },
        "id": "Iwbyp3fy_IGK",
        "outputId": "289fb7e4-8fe0-4fb4-f48d-7fe0f0111734"
      },
      "source": [
        "a = 1\n",
        "type(a)"
      ],
      "execution_count": null,
      "outputs": [
        {
          "output_type": "execute_result",
          "data": {
            "text/plain": [
              "int"
            ]
          },
          "metadata": {
            "tags": []
          },
          "execution_count": 22
        }
      ]
    },
    {
      "cell_type": "markdown",
      "metadata": {
        "id": "z_Rs-hAt_IGL"
      },
      "source": [
        "#### **None**\n",
        " - 아무런 값을 갖지 않을 때 사용\n",
        " - 일반적으로 변수가 초기값을 갖지 않게 하여 해당 변수를 생성할 때 사용\n",
        " - 기타 언어의 NULL, nil등과 같은 의미로 사용"
      ]
    },
    {
      "cell_type": "code",
      "metadata": {
        "id": "PZoHJ0Y8_IGN",
        "colab": {
          "base_uri": "https://localhost:8080/"
        },
        "outputId": "f0505cbc-e578-4d2e-fc34-948e2e90386b"
      },
      "source": [
        ""
      ],
      "execution_count": null,
      "outputs": [
        {
          "output_type": "stream",
          "text": [
            "3\n"
          ],
          "name": "stdout"
        }
      ]
    },
    {
      "cell_type": "markdown",
      "metadata": {
        "id": "QY7K7aYe_IGN"
      },
      "source": [
        "#### **comparison operator(비교 연산자)** \n",
        "  - 프로그래밍에서는 비교를 할 경우, = 대신 **==**를 사용\n",
        "  - <, > (작다, 크다)\n",
        "  - <=, >= (작거나 같다, 크거나 같다)\n",
        "  - == 같다\n",
        "  - != 같지 않다\n",
        "  - 비교 연산자의 결과는 bool 타입"
      ]
    },
    {
      "cell_type": "code",
      "metadata": {
        "colab": {
          "base_uri": "https://localhost:8080/"
        },
        "id": "yUsTBnZV_IGO",
        "outputId": "e4248a38-3747-4af5-e746-0311689bff40"
      },
      "source": [
        "a = 1\n",
        "b = 2\n",
        "a < b\n",
        "a > b\n",
        "a == b\n",
        "a >= b\n",
        "a != b\n",
        "a <= b"
      ],
      "execution_count": null,
      "outputs": [
        {
          "output_type": "execute_result",
          "data": {
            "text/plain": [
              "True"
            ]
          },
          "metadata": {
            "tags": []
          },
          "execution_count": 28
        }
      ]
    },
    {
      "cell_type": "markdown",
      "metadata": {
        "id": "uPd57R_u_IGO"
      },
      "source": [
        "#### **numbers (숫자형 타입)**\n",
        " - 정수, 실수로 구성\n",
        " - 수학의 기본 연산자(가감승제) 사용 가능"
      ]
    },
    {
      "cell_type": "code",
      "metadata": {
        "colab": {
          "base_uri": "https://localhost:8080/"
        },
        "id": "yVmOgaUq_IGP",
        "outputId": "3df03400-47f4-4b5f-c7eb-f1a94e2f0f40"
      },
      "source": [
        "a = 5\n",
        "b = 4\n",
        "#a * b\n",
        "#a / b\n",
        "#a + b\n",
        "#a - b\n",
        "#a % b\n",
        "#a ** b\n",
        "\n",
        "a ** b"
      ],
      "execution_count": null,
      "outputs": [
        {
          "output_type": "execute_result",
          "data": {
            "text/plain": [
              "625"
            ]
          },
          "metadata": {
            "tags": []
          },
          "execution_count": 33
        }
      ]
    },
    {
      "cell_type": "markdown",
      "metadata": {
        "id": "mMWY9w6A_IGS"
      },
      "source": [
        "#### **operator priorities (연산자 우선순위)**\n",
        "  - 기본적인 수학의 연산자와 동일\n",
        "  - 강제로 연산을 선수하기 위해선, 괄호()를 사용"
      ]
    },
    {
      "cell_type": "code",
      "metadata": {
        "colab": {
          "base_uri": "https://localhost:8080/"
        },
        "id": "MdkdIhP0_IGT",
        "outputId": "f348a37a-b6cd-43ac-c7c9-d4360b8d4380"
      },
      "source": [
        "a = 3\n",
        "b = 2\n",
        "\n",
        "(a + b) * a"
      ],
      "execution_count": null,
      "outputs": [
        {
          "output_type": "execute_result",
          "data": {
            "text/plain": [
              "15"
            ]
          },
          "metadata": {
            "tags": []
          },
          "execution_count": 35
        }
      ]
    },
    {
      "cell_type": "markdown",
      "metadata": {
        "id": "s77okRNX_IGT"
      },
      "source": [
        "*  **연습문제** 다음의 각 a값을 출력 했을 때 결과는? \n"
      ]
    },
    {
      "cell_type": "code",
      "metadata": {
        "colab": {
          "base_uri": "https://localhost:8080/"
        },
        "id": "vByR8HJk_IGU",
        "outputId": "43ea8c5d-a31f-472a-d60a-20e4f1fa3304"
      },
      "source": [
        "a = 9\n",
        "print(a)\n",
        "print(a - 3)\n",
        "print(a)"
      ],
      "execution_count": null,
      "outputs": [
        {
          "output_type": "stream",
          "text": [
            "9\n",
            "6\n",
            "9\n"
          ],
          "name": "stdout"
        }
      ]
    },
    {
      "cell_type": "markdown",
      "metadata": {
        "id": "LWBgIg_u_IGU"
      },
      "source": [
        "#### **expression evaluation & assignment (식평가 & 대입)**\n",
        " - 변수의 값이 변경되기 위해서는 =를 사용하여 대입이 발생하는 경우에만 해당"
      ]
    },
    {
      "cell_type": "code",
      "metadata": {
        "colab": {
          "base_uri": "https://localhost:8080/"
        },
        "id": "9PY1Yip8_IGU",
        "outputId": "61ca0ccd-ba8e-4c9e-8acc-75f21a2a0c26"
      },
      "source": [
        "a = 10\n",
        "\n",
        "a -= 5\n",
        "print(a)"
      ],
      "execution_count": null,
      "outputs": [
        {
          "output_type": "stream",
          "text": [
            "5\n"
          ],
          "name": "stdout"
        }
      ]
    },
    {
      "cell_type": "markdown",
      "metadata": {
        "id": "fCYbBKkdAOz9"
      },
      "source": [
        "#**문자열(str) 타입 이해하기**"
      ]
    },
    {
      "cell_type": "markdown",
      "metadata": {
        "id": "69IBN9oSAmEL"
      },
      "source": [
        "### **string (문자열)**\n",
        " - 복수개의 문자를 순서대로 나열 한 것\n",
        " - 문자열은 '(작은따옴표) 혹은 \"(큰따옴표) 사이에 문자를 넣어서 생성\n",
        " - 문자열 자체에 ', \"가 있는 경우에는 각각 그 반대의 기호로 생성"
      ]
    },
    {
      "cell_type": "markdown",
      "metadata": {
        "id": "ubLS4RPOArt8"
      },
      "source": [
        "#### **''' '''사용하여 표현 가능**\n",
        "  - 차이점 \n",
        "    - '', \"\" -> 한줄 문자열 표현\n",
        "    - ''' ''' -> 어려줄에 걸쳐 문자열 표현 가능"
      ]
    },
    {
      "cell_type": "code",
      "metadata": {
        "id": "ziZq4JTYAxIe"
      },
      "source": [
        "a = \"minjae's teacher\"\n",
        "b ='\"minjae\"'\n",
        "c = \"\"\"soo \n",
        "yeon\"\"\"\n",
        "d ='''soo \n",
        "yeon'''"
      ],
      "execution_count": null,
      "outputs": []
    },
    {
      "cell_type": "code",
      "metadata": {
        "colab": {
          "base_uri": "https://localhost:8080/"
        },
        "id": "1UxLt3BcA0mT",
        "outputId": "318a6bce-3560-4d36-bc03-78aed7decea2"
      },
      "source": [
        "c = \"\"\"hello\n",
        "world\"\"\"\n",
        "\n",
        "print(c)"
      ],
      "execution_count": null,
      "outputs": [
        {
          "output_type": "stream",
          "text": [
            "hello\n",
            "world\" \n"
          ],
          "name": "stdout"
        }
      ]
    },
    {
      "cell_type": "markdown",
      "metadata": {
        "id": "wTzA3QX-A4ui"
      },
      "source": [
        "#### escape string (이스케이프 문자)\n",
        "* 문자열내의 일부 문자의 의미를 달리하여 `특정한 효과`를 주는 것\n",
        "* `\\n` : new line `\\t` : tab 등\n",
        "\n"
      ]
    },
    {
      "cell_type": "code",
      "metadata": {
        "colab": {
          "base_uri": "https://localhost:8080/"
        },
        "id": "E_uEYliNA6De",
        "outputId": "e2cc4f1a-9fb2-40f4-a547-1de896dcabdf"
      },
      "source": [
        ""
      ],
      "execution_count": null,
      "outputs": [
        {
          "output_type": "stream",
          "text": [
            "Hello World\n",
            "min\tjae\n"
          ],
          "name": "stdout"
        }
      ]
    },
    {
      "cell_type": "markdown",
      "metadata": {
        "id": "hr6hefAbA9sZ"
      },
      "source": [
        "#### **indexing & slicing string (문자열 인덱스 및 추출)**\n",
        "  - 문자열의 각 문자는 순서가 있음\n",
        "  - 이때 각 문자열의 순서를 **인덱스** 라고 함\n",
        "  - 첫번째 문자부터 마지막까지 차례대로의 순서를 가짐\n",
        "  - 첫번째 시작문자의 순서는 0으로 시작 (1이 아님)"
      ]
    },
    {
      "cell_type": "markdown",
      "metadata": {
        "id": "KQRd-u2-BIN3"
      },
      "source": [
        "* **연습문제**\n",
        "문자열의 마지막 문자의 순서의 값은?"
      ]
    },
    {
      "cell_type": "code",
      "metadata": {
        "colab": {
          "base_uri": "https://localhost:8080/",
          "height": 37
        },
        "id": "0_X6b5N6BCEp",
        "outputId": "470b3847-d7af-487a-9f64-23851ebd4c71"
      },
      "source": [
        "a = \"minjae\""
      ],
      "execution_count": null,
      "outputs": [
        {
          "output_type": "execute_result",
          "data": {
            "application/vnd.google.colaboratory.intrinsic+json": {
              "type": "string"
            },
            "text/plain": [
              "'e'"
            ]
          },
          "metadata": {
            "tags": []
          },
          "execution_count": 51
        }
      ]
    },
    {
      "cell_type": "markdown",
      "metadata": {
        "id": "2C-8ng5wBNNh"
      },
      "source": [
        "#### **-1 인덱스**\n",
        "  - 다른 언어와는 달리, python의 경우 음수 인덱스를 지원\n",
        "  - -1이 가장 마지막 인덱스를, -2가 마지막에서 두번째 인덱스를 의미..."
      ]
    },
    {
      "cell_type": "code",
      "metadata": {
        "colab": {
          "base_uri": "https://localhost:8080/"
        },
        "id": "5lTqXJK_BPRS",
        "outputId": "19ef59c0-687b-468b-a4b1-d59ac667da57"
      },
      "source": [
        "print(a[-2])"
      ],
      "execution_count": null,
      "outputs": [
        {
          "output_type": "stream",
          "text": [
            "a\n"
          ],
          "name": "stdout"
        }
      ]
    },
    {
      "cell_type": "markdown",
      "metadata": {
        "id": "U5fFVUdTBUKF"
      },
      "source": [
        "#### **인덱스의 범위**\n",
        "  - 인덱스는 [0, 문자열의 길이) 의 범위만 유효\n",
        "  - 음수 인덱스를 사용할 경우, [-문자열의 길이, -1]\n",
        "  - 범위를 넘어갈 경우 에러 발생"
      ]
    },
    {
      "cell_type": "code",
      "metadata": {
        "colab": {
          "base_uri": "https://localhost:8080/",
          "height": 181
        },
        "id": "gV0yHLyLBXpI",
        "outputId": "0ea42cbd-95f0-4beb-f3f2-3363f810ffbe"
      },
      "source": [
        "a = \"minjae\"\n",
        "a[-7]"
      ],
      "execution_count": null,
      "outputs": [
        {
          "output_type": "error",
          "ename": "IndexError",
          "evalue": "ignored",
          "traceback": [
            "\u001b[0;31m---------------------------------------------------------------------------\u001b[0m",
            "\u001b[0;31mIndexError\u001b[0m                                Traceback (most recent call last)",
            "\u001b[0;32m<ipython-input-57-f6b9e99c231b>\u001b[0m in \u001b[0;36m<module>\u001b[0;34m()\u001b[0m\n\u001b[1;32m      1\u001b[0m \u001b[0ma\u001b[0m \u001b[0;34m=\u001b[0m \u001b[0;34m\"minjae\"\u001b[0m\u001b[0;34m\u001b[0m\u001b[0;34m\u001b[0m\u001b[0m\n\u001b[0;32m----> 2\u001b[0;31m \u001b[0ma\u001b[0m\u001b[0;34m[\u001b[0m\u001b[0;34m-\u001b[0m\u001b[0;36m7\u001b[0m\u001b[0;34m]\u001b[0m\u001b[0;34m\u001b[0m\u001b[0;34m\u001b[0m\u001b[0m\n\u001b[0m",
            "\u001b[0;31mIndexError\u001b[0m: string index out of range"
          ]
        }
      ]
    },
    {
      "cell_type": "markdown",
      "metadata": {
        "id": "nY3Vv9xFBbOB"
      },
      "source": [
        "#### **문자열 slicing**\n",
        "  - 인덱스가 하나의 문자만을 추출한다면,\n",
        "  - slicing은 부분 문자열을 추출한다고 볼 수 있음\n",
        "  - [시작:끝]와 같이 명시하여 [시작, 끝)에 해당하는 부분 문자열을 추출\n",
        "  - 시작, 끝 인덱스가 생략이 되어 있다면, 0부터 혹은 끝까지로 간주"
      ]
    },
    {
      "cell_type": "code",
      "metadata": {
        "colab": {
          "base_uri": "https://localhost:8080/",
          "height": 37
        },
        "id": "D7GVP6BsBfYK",
        "outputId": "f90e3af0-1641-4af7-c31c-4015d47b24d7"
      },
      "source": [
        "a = \"minjae like coding\"\n",
        "\n",
        "a[:]"
      ],
      "execution_count": null,
      "outputs": [
        {
          "output_type": "execute_result",
          "data": {
            "application/vnd.google.colaboratory.intrinsic+json": {
              "type": "string"
            },
            "text/plain": [
              "'nja'"
            ]
          },
          "metadata": {
            "tags": []
          },
          "execution_count": 60
        }
      ]
    },
    {
      "cell_type": "markdown",
      "metadata": {
        "id": "4ruvE1XSBjE4"
      },
      "source": [
        "#### **문자열 함수**\n",
        "  - 문자열은 여러가지 기능 제공을 위한 함수를 내장\n",
        "  - 함수란 특정 기능을 하는 코드로 언제든지 호출하여 해당 기능을 사용 가능하도록 구성한 코드\n",
        "  - 추후에 함수에 대해 자세히 다룰 예정"
      ]
    },
    {
      "cell_type": "code",
      "metadata": {
        "colab": {
          "base_uri": "https://localhost:8080/",
          "height": 37
        },
        "id": "-tA4CGLTBiiV",
        "outputId": "12b68640-653c-42d7-daac-8684ba03a5c4"
      },
      "source": [
        "a = 'soo yeon'\n",
        "a.upper()"
      ],
      "execution_count": null,
      "outputs": [
        {
          "output_type": "execute_result",
          "data": {
            "application/vnd.google.colaboratory.intrinsic+json": {
              "type": "string"
            },
            "text/plain": [
              "'SOO YEON'"
            ]
          },
          "metadata": {
            "tags": []
          },
          "execution_count": 61
        }
      ]
    },
    {
      "cell_type": "markdown",
      "metadata": {
        "id": "lvO9LdAUBqAu"
      },
      "source": [
        "* **replace** \n",
        " - 문자열 내의 특정 문자를 치환"
      ]
    },
    {
      "cell_type": "code",
      "metadata": {
        "colab": {
          "base_uri": "https://localhost:8080/",
          "height": 37
        },
        "id": "IzPDMlpKCEtU",
        "outputId": "93335d10-ac5f-48e7-8327-0180dde49edd"
      },
      "source": [
        "a = \"minjae\"\n",
        "a.replace(\"m\", \"j\")"
      ],
      "execution_count": null,
      "outputs": [
        {
          "output_type": "execute_result",
          "data": {
            "application/vnd.google.colaboratory.intrinsic+json": {
              "type": "string"
            },
            "text/plain": [
              "'jinjae'"
            ]
          },
          "metadata": {
            "tags": []
          },
          "execution_count": 62
        }
      ]
    },
    {
      "cell_type": "markdown",
      "metadata": {
        "id": "XJmgXPy3CJl1"
      },
      "source": [
        "* **format**\n",
        " - 문자열내의 특정한 값을 변수로부터 초기화하여 동적으로 문자열을 생성 "
      ]
    },
    {
      "cell_type": "code",
      "metadata": {
        "colab": {
          "base_uri": "https://localhost:8080/"
        },
        "id": "uZT5TattCNXL",
        "outputId": "e8809331-26b9-4092-aa12-1c304e591aa8"
      },
      "source": [
        "name1 = \"soo yeon\"\n",
        "name2 = \"minjae\"\n",
        "\n",
        "content = f\"su hyung is coding with {name1} and {name2}\"\n",
        "\n",
        "print(content)"
      ],
      "execution_count": null,
      "outputs": [
        {
          "output_type": "stream",
          "text": [
            "su hyung is coding with soo yeon and minjae\n"
          ],
          "name": "stdout"
        }
      ]
    },
    {
      "cell_type": "markdown",
      "metadata": {
        "id": "ys74HTTaCQvw"
      },
      "source": [
        "* **split**\n",
        " - 문자열을 특정한 문자 구분하여(delimiter) 문자열의 리스트로 치환"
      ]
    },
    {
      "cell_type": "code",
      "metadata": {
        "colab": {
          "base_uri": "https://localhost:8080/"
        },
        "id": "9wIo3A0kCVO9",
        "outputId": "cb057ecd-8d70-46ab-9720-2a90c44b102e"
      },
      "source": [
        ""
      ],
      "execution_count": null,
      "outputs": [
        {
          "output_type": "execute_result",
          "data": {
            "text/plain": [
              "['minjae ha', ' ', 'kill for python']"
            ]
          },
          "metadata": {
            "tags": []
          },
          "execution_count": 66
        }
      ]
    },
    {
      "cell_type": "markdown",
      "metadata": {
        "id": "p7KsdngvDPvz"
      },
      "source": [
        "# **list, tuple에 대해 이해 및 실습**\n"
      ]
    },
    {
      "cell_type": "markdown",
      "metadata": {
        "id": "fkhdUiT6DS4B"
      },
      "source": [
        "### **리스트 & 튜플**\n",
        " * 복수개의 값을 담을 수 있는 데이터 구조\n",
        " * 실생활에서 사용하는 리스트(학생 리스트, 성적 리스트 등등)과 동일한 의미로 이해\n",
        " * list - mutable    (생성된 후에 변경 가능)  \n",
        " * tuple - immutable (생성된 후에 변경 불가능)  "
      ]
    },
    {
      "cell_type": "markdown",
      "metadata": {
        "id": "T9zRfSDFDWQ_"
      },
      "source": [
        "#### **리스트 초기화**\n",
        " - [] 안에 값을 담아서 생성\n",
        " - list() 함수로 생성\n",
        " - str.split()함수로 생성"
      ]
    },
    {
      "cell_type": "code",
      "metadata": {
        "colab": {
          "base_uri": "https://localhost:8080/"
        },
        "id": "SO_xoI1W0tkG",
        "outputId": "2c1c8326-ba79-453c-f9e2-5350e80426c7"
      },
      "source": [
        "a = (1,2)\n",
        "b = list(a)\n",
        "print(b)"
      ],
      "execution_count": null,
      "outputs": [
        {
          "output_type": "stream",
          "text": [
            "[1, 2]\n"
          ],
          "name": "stdout"
        }
      ]
    },
    {
      "cell_type": "code",
      "metadata": {
        "id": "oHfNtld81Dcx"
      },
      "source": [
        ""
      ],
      "execution_count": null,
      "outputs": []
    },
    {
      "cell_type": "code",
      "metadata": {
        "id": "VJmYF5ub1Bj5"
      },
      "source": [
        ""
      ],
      "execution_count": null,
      "outputs": []
    },
    {
      "cell_type": "markdown",
      "metadata": {
        "id": "s85TWCFMDbhJ"
      },
      "source": [
        "* **list() 함수**\n",
        " + 다른 데이터 타입을 리스트로 변환할 때도 사용"
      ]
    },
    {
      "cell_type": "code",
      "metadata": {
        "colab": {
          "base_uri": "https://localhost:8080/"
        },
        "id": "uYf9wQ3sDep-",
        "outputId": "228f968b-c94e-4bc2-841b-f54b80a6ff19"
      },
      "source": [
        "c = (1,2,3)\n",
        "d = list(c)#다른 타입으로부터 리스트 생성하고자 하는 경우에도 list 함수\n",
        "print(d)"
      ],
      "execution_count": null,
      "outputs": [
        {
          "output_type": "stream",
          "text": [
            "[1, 2, 3]\n"
          ],
          "name": "stdout"
        }
      ]
    },
    {
      "cell_type": "markdown",
      "metadata": {
        "id": "3sgW_4FnDhgr"
      },
      "source": [
        "+ **string split 함수**\n",
        " * 구분자로 구분되는 리스트를 반환 (빈번히 사용 됨)"
      ]
    },
    {
      "cell_type": "code",
      "metadata": {
        "colab": {
          "base_uri": "https://localhost:8080/"
        },
        "id": "qCTcAGGZDlhB",
        "outputId": "f549ac12-ba22-4ecc-9c65-b4c3ee5a97c0"
      },
      "source": [
        "a = 'hello world'\n",
        "b = a.split()\n",
        "print(b)"
      ],
      "execution_count": null,
      "outputs": [
        {
          "output_type": "stream",
          "text": [
            "['hello', 'world']\n"
          ],
          "name": "stdout"
        }
      ]
    },
    {
      "cell_type": "markdown",
      "metadata": {
        "id": "WHcprJtUDoZw"
      },
      "source": [
        "#### **리스트 indexing**\n",
        " * 문자열의 인덱싱과 동일하게 동작\n",
        " * [] 연산자를 이용하여 항목 얻어오기\n",
        " * [i] - i번째 원소를 반환\n",
        " * i가 음수인 경우도 가능하며 마지막원소가 -1로 하여 앞으로 갈때마다 1씩 감소함"
      ]
    },
    {
      "cell_type": "code",
      "metadata": {
        "colab": {
          "base_uri": "https://localhost:8080/"
        },
        "id": "DM_yeyXuDrl8",
        "outputId": "63bce218-d8c4-45db-8c68-f6e3c4e3eed1"
      },
      "source": [
        "a = [3,4,5,6,7,8,9,0]"
      ],
      "execution_count": null,
      "outputs": [
        {
          "output_type": "execute_result",
          "data": {
            "text/plain": [
              "0"
            ]
          },
          "metadata": {
            "tags": []
          },
          "execution_count": 73
        }
      ]
    },
    {
      "cell_type": "markdown",
      "metadata": {
        "id": "-C3w-chuDsIK"
      },
      "source": [
        "#### **리스트 개별 아이템에 접근**\n",
        " - 인덱스에 접근하여 값을 업데이트 가능"
      ]
    },
    {
      "cell_type": "code",
      "metadata": {
        "colab": {
          "base_uri": "https://localhost:8080/",
          "height": 198
        },
        "id": "8tewQEExDxHu",
        "outputId": "f1df0688-9a7e-43f2-9881-2d86f1d861d5"
      },
      "source": [
        ""
      ],
      "execution_count": null,
      "outputs": [
        {
          "output_type": "error",
          "ename": "TypeError",
          "evalue": "ignored",
          "traceback": [
            "\u001b[0;31m---------------------------------------------------------------------------\u001b[0m",
            "\u001b[0;31mTypeError\u001b[0m                                 Traceback (most recent call last)",
            "\u001b[0;32m<ipython-input-78-b2237e9480f5>\u001b[0m in \u001b[0;36m<module>\u001b[0;34m()\u001b[0m\n\u001b[1;32m      1\u001b[0m \u001b[0ma\u001b[0m \u001b[0;34m=\u001b[0m \u001b[0;34m\"minjae\"\u001b[0m\u001b[0;34m\u001b[0m\u001b[0;34m\u001b[0m\u001b[0m\n\u001b[1;32m      2\u001b[0m \u001b[0;34m\u001b[0m\u001b[0m\n\u001b[0;32m----> 3\u001b[0;31m \u001b[0ma\u001b[0m\u001b[0;34m[\u001b[0m\u001b[0;36m3\u001b[0m\u001b[0;34m]\u001b[0m \u001b[0;34m=\u001b[0m \u001b[0;34m\"a\"\u001b[0m\u001b[0;34m\u001b[0m\u001b[0;34m\u001b[0m\u001b[0m\n\u001b[0m",
            "\u001b[0;31mTypeError\u001b[0m: 'str' object does not support item assignment"
          ]
        }
      ]
    },
    {
      "cell_type": "markdown",
      "metadata": {
        "id": "XyUDfevUDxvL"
      },
      "source": [
        "#### **리스트 slicing**\n",
        " - 문자열 슬라이싱과 동일하게 동작\n",
        " - 슬라이싱의 결과 역시 list!"
      ]
    },
    {
      "cell_type": "code",
      "metadata": {
        "colab": {
          "base_uri": "https://localhost:8080/"
        },
        "id": "lfmd_1jcD0wv",
        "outputId": "eef2521d-35d4-449d-9a17-707b7b7b27a6"
      },
      "source": [
        "a = [1,2,3,4,5,6,7,8,9,10]\n",
        "\n",
        "#[start:end:step]\n",
        "a[0:10:5]"
      ],
      "execution_count": null,
      "outputs": [
        {
          "output_type": "execute_result",
          "data": {
            "text/plain": [
              "[1, 6]"
            ]
          },
          "metadata": {
            "tags": []
          },
          "execution_count": 81
        }
      ]
    },
    {
      "cell_type": "markdown",
      "metadata": {
        "id": "36jw_hBUD3od"
      },
      "source": [
        "### list 멤버 함수\n",
        " - 생성된 리스트 객체에 동작하는 함수\n",
        " - 향후, 클래스와 멤버 함수 개념을 이해할 예정"
      ]
    },
    {
      "cell_type": "markdown",
      "metadata": {
        "id": "8dv7_cMkECcT"
      },
      "source": [
        "* **append()**\n",
        " + 리스트의 끝에 항목을 추가함"
      ]
    },
    {
      "cell_type": "code",
      "metadata": {
        "id": "7EZraABPECBV"
      },
      "source": [
        "a = [1,2,3,4,5,6,7,8,9,10]"
      ],
      "execution_count": null,
      "outputs": []
    },
    {
      "cell_type": "markdown",
      "metadata": {
        "id": "jvRFqOUgEF3M"
      },
      "source": [
        "+ **extend()**\n",
        " * 리스트를 연장\n",
        " * += 로도 가능함"
      ]
    },
    {
      "cell_type": "code",
      "metadata": {
        "colab": {
          "base_uri": "https://localhost:8080/"
        },
        "id": "khCFfA38EH_C",
        "outputId": "ccc4b2b2-0fda-4d17-a532-05fd26d72a8c"
      },
      "source": [
        "a = [1,2,3]\n",
        "b = [4,5,6]\n",
        "a.extend(b)\n",
        "print(a)"
      ],
      "execution_count": null,
      "outputs": [
        {
          "output_type": "stream",
          "text": [
            "[1, 2, 3, 4, 5, 6]\n"
          ],
          "name": "stdout"
        }
      ]
    },
    {
      "cell_type": "markdown",
      "metadata": {
        "id": "u0yuIcjEELIT"
      },
      "source": [
        "+ **insert()로 항목추가**\n",
        " * 리스트의 원하는 위치에 추가 가능\n",
        " * 앞에 인덱스를, 뒤에 아이템을 명시"
      ]
    },
    {
      "cell_type": "code",
      "metadata": {
        "colab": {
          "base_uri": "https://localhost:8080/"
        },
        "id": "0tm8kRW8LfVV",
        "outputId": "9ddb5fb5-2180-46e3-9705-e1724349ee97"
      },
      "source": [
        "a = [\"song su jin\", \"won ja yeon\", \"oh gwang ouk\"]\n",
        "a.insert(3, \"kim jin min\")\n",
        "print(a)"
      ],
      "execution_count": null,
      "outputs": [
        {
          "output_type": "stream",
          "text": [
            "['song su jin', 'won ja yeon', 'oh gwang ouk', 'kim jin min']\n"
          ],
          "name": "stdout"
        }
      ]
    },
    {
      "cell_type": "markdown",
      "metadata": {
        "id": "WqAFYx6rEQnu"
      },
      "source": [
        "+ **remove()**\n",
        " * 값으로 항목 삭제"
      ]
    },
    {
      "cell_type": "code",
      "metadata": {
        "colab": {
          "base_uri": "https://localhost:8080/"
        },
        "id": "RSr3wOu0ET0E",
        "outputId": "31714ee8-3fe8-458c-e3a6-1f6771985038"
      },
      "source": [
        "a.remove(\"kim jin min\")\n",
        "print(a)"
      ],
      "execution_count": null,
      "outputs": [
        {
          "output_type": "stream",
          "text": [
            "['song su jin', 'won ja yeon', 'oh gwang ouk']\n"
          ],
          "name": "stdout"
        }
      ]
    },
    {
      "cell_type": "markdown",
      "metadata": {
        "id": "QnYc3O6FEWlc"
      },
      "source": [
        "+ **pop()**\n",
        "  - 지우고자 하는 아이템을 반환 후, 삭제"
      ]
    },
    {
      "cell_type": "code",
      "metadata": {
        "colab": {
          "base_uri": "https://localhost:8080/"
        },
        "id": "anGqKPy3EXwR",
        "outputId": "c2a86c98-5dc9-4c32-8cd7-92dd68d2bfea"
      },
      "source": [
        "jalga = a.pop(0)\n",
        "print(jalga)"
      ],
      "execution_count": null,
      "outputs": [
        {
          "output_type": "stream",
          "text": [
            "song su jin\n"
          ],
          "name": "stdout"
        }
      ]
    },
    {
      "cell_type": "markdown",
      "metadata": {
        "id": "uIko0EGREaXN"
      },
      "source": [
        "+ **index()**\n",
        " * 찾고자 하는 값의 인덱스 반환"
      ]
    },
    {
      "cell_type": "code",
      "metadata": {
        "colab": {
          "base_uri": "https://localhost:8080/"
        },
        "id": "gx7mIi-TEdq3",
        "outputId": "9657254e-e563-4739-eae8-ae795c23ed4c"
      },
      "source": [
        "a.index(\"oh gwang ouk\")"
      ],
      "execution_count": null,
      "outputs": [
        {
          "output_type": "execute_result",
          "data": {
            "text/plain": [
              "1"
            ]
          },
          "metadata": {
            "tags": []
          },
          "execution_count": 102
        }
      ]
    },
    {
      "cell_type": "markdown",
      "metadata": {
        "id": "jEFbqWvfEeI1"
      },
      "source": [
        "* **in 키워드**\n",
        " + 리스트 내에 해당 값이 존재하는지 확인\n",
        " + value in [list]\n",
        " + True, False 중 한가지로 반환"
      ]
    },
    {
      "cell_type": "code",
      "metadata": {
        "colab": {
          "base_uri": "https://localhost:8080/"
        },
        "id": "1b7KaUYvxR6V",
        "outputId": "9cb30248-3cea-4599-98a1-bd9b9372e9fa"
      },
      "source": [
        "names = [\"soo yeon\", \"su hyung\", \"minjae\"]\n",
        "\n",
        "\"gonseung\" in names"
      ],
      "execution_count": null,
      "outputs": [
        {
          "output_type": "execute_result",
          "data": {
            "text/plain": [
              "False"
            ]
          },
          "metadata": {
            "tags": []
          },
          "execution_count": 104
        }
      ]
    },
    {
      "cell_type": "code",
      "metadata": {
        "id": "iDI3Qe5AEjXE"
      },
      "source": [
        ""
      ],
      "execution_count": null,
      "outputs": []
    },
    {
      "cell_type": "markdown",
      "metadata": {
        "id": "8I3E3_adEjyj"
      },
      "source": [
        "* **list 정렬**\n",
        " + sort() -> 리스트 자체를 내부적으로 정렬\n",
        " + sorted() -> 리스트의 정렬된 복사본을 반환"
      ]
    },
    {
      "cell_type": "code",
      "metadata": {
        "colab": {
          "base_uri": "https://localhost:8080/"
        },
        "id": "ZnLLwycTEndg",
        "outputId": "7ea9f5a9-1ba0-4c85-c5a0-5492b6e8fcf9"
      },
      "source": [
        "a = [1,4,5,6,2,6,7,8,320]\n",
        "\n",
        "b = sorted(a)\n",
        "print(a)"
      ],
      "execution_count": null,
      "outputs": [
        {
          "output_type": "stream",
          "text": [
            "[1, 4, 5, 6, 2, 6, 7, 8, 320]\n"
          ],
          "name": "stdout"
        }
      ]
    },
    {
      "cell_type": "markdown",
      "metadata": {
        "id": "YmdJM3LUEn9i"
      },
      "source": [
        "### **tuple**\n",
        " - 리스트와 같이 복수개의 값을 갖는 컬렉션 타입\n",
        " - 생성된 후 변경이 불가능"
      ]
    },
    {
      "cell_type": "code",
      "metadata": {
        "id": "E9OahtzXEua5",
        "colab": {
          "base_uri": "https://localhost:8080/"
        },
        "outputId": "12224bbb-f730-4401-b98c-e03eae70aa5d"
      },
      "source": [
        "a = (1,2,3,4,5)\n",
        "print(a) #immutable"
      ],
      "execution_count": null,
      "outputs": [
        {
          "output_type": "stream",
          "text": [
            "(1, 2, 3, 4, 5)\n"
          ],
          "name": "stdout"
        }
      ]
    },
    {
      "cell_type": "markdown",
      "metadata": {
        "id": "DmyElsaaEwgo"
      },
      "source": [
        "#### **tuple unpacking**\n",
        " - 튜플의 값을 차례대로 변수에 대입"
      ]
    },
    {
      "cell_type": "code",
      "metadata": {
        "colab": {
          "base_uri": "https://localhost:8080/"
        },
        "id": "FiIBUZqkEznE",
        "outputId": "3fb60fb6-d198-4cfe-e33e-665f455024c3"
      },
      "source": [
        "a, b, c = (1,2,3)\n",
        "type(a)"
      ],
      "execution_count": null,
      "outputs": [
        {
          "output_type": "execute_result",
          "data": {
            "text/plain": [
              "int"
            ]
          },
          "metadata": {
            "tags": []
          },
          "execution_count": 116
        }
      ]
    },
    {
      "cell_type": "markdown",
      "metadata": {
        "id": "FG8kAtakE2zw"
      },
      "source": [
        "* **연습문제** a와 b의 값을 교환하시오"
      ]
    },
    {
      "cell_type": "code",
      "metadata": {
        "colab": {
          "base_uri": "https://localhost:8080/"
        },
        "id": "fraEV6WOE4mn",
        "outputId": "85fa6228-fd58-422c-d9e4-c62fa6e91d7f"
      },
      "source": [
        "a = 1\n",
        "b = 2\n",
        "\n",
        "a, b = 2, 1\n",
        "print(a, b)"
      ],
      "execution_count": null,
      "outputs": [
        {
          "output_type": "stream",
          "text": [
            "2 1\n"
          ],
          "name": "stdout"
        }
      ]
    },
    {
      "cell_type": "markdown",
      "metadata": {
        "id": "OTk_D0E5E7Vd"
      },
      "source": [
        "# **dictionary, set에 대해 이해 및 실습**\n"
      ]
    },
    {
      "cell_type": "markdown",
      "metadata": {
        "id": "RWuQUy5sFJX1"
      },
      "source": [
        "### **dictionary**\n",
        " + 키와 값을 갖는 데이터 구조\n",
        " + 키는 내부적으로 hash값으로 저장\n",
        " + 순서를 따지지 않음. 즉, 인덱스가 없음"
      ]
    },
    {
      "cell_type": "code",
      "metadata": {
        "colab": {
          "base_uri": "https://localhost:8080/"
        },
        "id": "OQ4DOgNiFLCL",
        "outputId": "27377adc-d194-4be2-9450-28274fb2d00a"
      },
      "source": [
        "a = {\"name\": \"sooyeon\", \"name2\": \"minjae\"}\n",
        "print(a)"
      ],
      "execution_count": null,
      "outputs": [
        {
          "output_type": "stream",
          "text": [
            "{'name': 'sooyeon', 'name2': 'minjae'}\n"
          ],
          "name": "stdout"
        }
      ]
    },
    {
      "cell_type": "markdown",
      "metadata": {
        "id": "6YRgTt7hFNWj"
      },
      "source": [
        "+ **항목 추가 및 변경**\n",
        " - 기존에 키가 존재 하면, 새로운 값으로 업데이트\n",
        " - 존재하지 않으면, 새로운 키, 값 생성"
      ]
    },
    {
      "cell_type": "code",
      "metadata": {
        "colab": {
          "base_uri": "https://localhost:8080/"
        },
        "id": "1j7dy_y3FQYQ",
        "outputId": "bfa3821e-68c2-46f2-ac00-39dd52a3f452"
      },
      "source": [
        "a = {\"name\": \"sooyeon\", \"name2\": \"minjae\"}\n",
        "\n",
        "a[\"age\"] = \"21\"\n",
        "\n",
        "print(a)"
      ],
      "execution_count": null,
      "outputs": [
        {
          "output_type": "stream",
          "text": [
            "{'name': 'sooyeon', 'name2': 'minjae', 'age': '21'}\n"
          ],
          "name": "stdout"
        }
      ]
    },
    {
      "cell_type": "markdown",
      "metadata": {
        "id": "IwZkjqb4FRFc"
      },
      "source": [
        "+ **update()**\n",
        " * 두 딕셔너리를 병합함\n",
        " * 겹치는 키가 있다면 parameter로 전달되는 키 값이 overwrite된다."
      ]
    },
    {
      "cell_type": "code",
      "metadata": {
        "colab": {
          "base_uri": "https://localhost:8080/"
        },
        "id": "-Uz0jgyoFT8j",
        "outputId": "d65659d0-deff-4d81-eb10-2bc522274ce9"
      },
      "source": [
        "a = {\"name\": \"sooyeon\", \"name2\": \"minjae\"}\n",
        "\n",
        "b = {\"name\": \"global business\", \"major\": \"business\"}\n",
        "\n",
        "a.update(b)\n",
        "print(a)"
      ],
      "execution_count": null,
      "outputs": [
        {
          "output_type": "stream",
          "text": [
            "{'name': 'global business', 'name2': 'minjae', 'major': 'business'}\n"
          ],
          "name": "stdout"
        }
      ]
    },
    {
      "cell_type": "markdown",
      "metadata": {
        "id": "Hnbe8iHSFWMx"
      },
      "source": [
        "* **key삭제**\n",
        " - del 키워드 사용\n",
        " - pop 함수 이용"
      ]
    },
    {
      "cell_type": "code",
      "metadata": {
        "id": "K7CnuFon2Ysr",
        "colab": {
          "base_uri": "https://localhost:8080/"
        },
        "outputId": "64ab9c5e-c03f-472e-d985-84f8089faa75"
      },
      "source": [
        ""
      ],
      "execution_count": null,
      "outputs": [
        {
          "output_type": "stream",
          "text": [
            "{'name': 'global business'}\n"
          ],
          "name": "stdout"
        }
      ]
    },
    {
      "cell_type": "code",
      "metadata": {
        "colab": {
          "base_uri": "https://localhost:8080/"
        },
        "id": "I9kqBQHoFa-t",
        "outputId": "810521fb-3851-4369-ffae-75c6f7bff771"
      },
      "source": [
        ""
      ],
      "execution_count": null,
      "outputs": [
        {
          "output_type": "stream",
          "text": [
            "global business\n",
            "{'major': 'business'}\n"
          ],
          "name": "stdout"
        }
      ]
    },
    {
      "cell_type": "markdown",
      "metadata": {
        "id": "SJgsNfQBFbog"
      },
      "source": [
        "* **clear()**\n",
        " + 딕셔너리의 모든 값을 초기화\n"
      ]
    },
    {
      "cell_type": "code",
      "metadata": {
        "colab": {
          "base_uri": "https://localhost:8080/"
        },
        "id": "LR3x4e4hFdRC",
        "outputId": "3f15828b-4991-49ce-b6b2-e0d6af04c2aa"
      },
      "source": [
        "b = {\"name\": \"global business\", \"major\": \"business\"}\n",
        "\n",
        "b.clear()\n",
        "print(b)"
      ],
      "execution_count": null,
      "outputs": [
        {
          "output_type": "stream",
          "text": [
            "{}\n"
          ],
          "name": "stdout"
        }
      ]
    },
    {
      "cell_type": "markdown",
      "metadata": {
        "id": "slZr6t0fFiaJ"
      },
      "source": [
        "* **in**\n",
        " + key값 존재 확인\n",
        " + O(1) 연산 - 딕셔너리의 크기와 관계없이 항상 연산의 속도가 일정하다는 의미"
      ]
    },
    {
      "cell_type": "code",
      "metadata": {
        "colab": {
          "base_uri": "https://localhost:8080/"
        },
        "id": "dF3Qtst4FmAY",
        "outputId": "e10a4b95-a180-4cf5-b008-4cd4ae5fb965"
      },
      "source": [
        "b = {\"name\": \"global business\", \"major\": \"business\"}\n",
        "\n",
        "\"name\" in b"
      ],
      "execution_count": null,
      "outputs": [
        {
          "output_type": "execute_result",
          "data": {
            "text/plain": [
              "True"
            ]
          },
          "metadata": {
            "tags": []
          },
          "execution_count": 28
        }
      ]
    },
    {
      "cell_type": "markdown",
      "metadata": {
        "id": "pn8EQiM3FmyD"
      },
      "source": [
        "* **value access**\n",
        " + dict[key]로 접급, 키가 없는 경우 에러 발생 \n",
        " + .get() 함수로 접근, 키가 없는 경우 None반환"
      ]
    },
    {
      "cell_type": "code",
      "metadata": {
        "colab": {
          "base_uri": "https://localhost:8080/"
        },
        "id": "DYtqMYdIF7NE",
        "outputId": "06825f86-d55e-462a-f54a-cda8d91ac203"
      },
      "source": [
        "b = {\"name\": \"global business\", \"major\": \"business\"}\n",
        "\n",
        "#a = b.get(\"gpa\")  -> none 반환\n",
        "# a = b[\"gpa\"] -> program down\n",
        "a = b[\"name\"]\n",
        "print(a)"
      ],
      "execution_count": null,
      "outputs": [
        {
          "output_type": "stream",
          "text": [
            "global business\n"
          ],
          "name": "stdout"
        }
      ]
    },
    {
      "cell_type": "markdown",
      "metadata": {
        "id": "UhgtDWOgF7yZ"
      },
      "source": [
        "#### **모든 keys, values 접근**\n",
        " + keys() - 키만 반환\n",
        " + values() - 값만 반환\n",
        " + items() - 키, 값의 튜플을 반환"
      ]
    },
    {
      "cell_type": "code",
      "metadata": {
        "colab": {
          "base_uri": "https://localhost:8080/"
        },
        "id": "eB0pjIEhF_0D",
        "outputId": "3a0b0d07-d484-4564-fbdf-3378a0bab5e1"
      },
      "source": [
        "a = {\"age\": 21, \"major\": \"digital business\", \"doublemajor\": \"a.i\"}\n",
        "b = tuple(a.items())\n",
        "print(b)"
      ],
      "execution_count": null,
      "outputs": [
        {
          "output_type": "stream",
          "text": [
            "(('age', 21), ('major', 'digital business'), ('doublemajor', 'a.i'))\n"
          ],
          "name": "stdout"
        }
      ]
    },
    {
      "cell_type": "markdown",
      "metadata": {
        "id": "PmlvJNLKNIV6"
      },
      "source": [
        "### **set**\n",
        " + dictionary에서 key만 활용하는 데이터 구조로 이해\n",
        " + 수학에서의 집합과 동일한 개념"
      ]
    },
    {
      "cell_type": "code",
      "metadata": {
        "colab": {
          "base_uri": "https://localhost:8080/"
        },
        "id": "7i3oDOY9NMw4",
        "outputId": "d28685ed-7fc0-484d-f81a-036c43f42976"
      },
      "source": [
        "a = set()\n",
        "type(a)"
      ],
      "execution_count": null,
      "outputs": [
        {
          "output_type": "execute_result",
          "data": {
            "text/plain": [
              "set"
            ]
          },
          "metadata": {
            "tags": []
          },
          "execution_count": 56
        }
      ]
    },
    {
      "cell_type": "markdown",
      "metadata": {
        "id": "dk2l2MSaNNk7"
      },
      "source": [
        "* **set()으로 집합으로 변환**"
      ]
    },
    {
      "cell_type": "code",
      "metadata": {
        "colab": {
          "base_uri": "https://localhost:8080/"
        },
        "id": "JkJ4eZ7TNT3c",
        "outputId": "5f6d55a5-4ca4-40be-b5b1-d927e79a02a6"
      },
      "source": [
        "a = [1,23,4,45,6,8,8]\n",
        "b = set(a)\n",
        "print(b)"
      ],
      "execution_count": null,
      "outputs": [
        {
          "output_type": "stream",
          "text": [
            "{1, 4, 6, 8, 45, 23}\n"
          ],
          "name": "stdout"
        }
      ]
    },
    {
      "cell_type": "markdown",
      "metadata": {
        "id": "NzGKYLdSNW2G"
      },
      "source": [
        "+ **set operations**\n",
        " - 수학 연산과 동일\n",
        " - 교집합, 합집합, 차집합 등 지원"
      ]
    },
    {
      "cell_type": "code",
      "metadata": {
        "colab": {
          "base_uri": "https://localhost:8080/"
        },
        "id": "bUJYiUrWNYYi",
        "outputId": "2812f7da-4d1e-4db1-d671-6086503c30dc"
      },
      "source": [
        "a = {1,2,3}\n",
        "b = {1,2,3,4,5}\n",
        "\n",
        "#print(a.union(b)) #합집합\n",
        "#print(a.intersection(b)) #교집합\n",
        "#print(a.difference(b)) #차집합\n",
        "print(a.issubset(b)) #부분 집합"
      ],
      "execution_count": null,
      "outputs": [
        {
          "output_type": "stream",
          "text": [
            "True\n"
          ],
          "name": "stdout"
        }
      ]
    },
    {
      "cell_type": "markdown",
      "metadata": {
        "id": "TneJHgAcNzMl"
      },
      "source": [
        "#**조건문의 이해 및 활용 (if)**"
      ]
    },
    {
      "cell_type": "markdown",
      "metadata": {
        "id": "tHCNmO31N5eq"
      },
      "source": [
        "#### condition (조건문)\n",
        " + 특정 조건을 만족하는 경우에만 수행할 작업이 있는 경우 사용\n",
        " + 모든 조건은 boolean으로 표현 됨 (예외 사항은 아래 배울 예정)\n",
        " + if, elif, else 키워드가 사용\n",
        " + 조건문의 경우 if, elif, else 블록에 종속된 코드는 들여쓰기로 표현 가능\n",
        " + 즉 아래코드에서와 같이, 조건문 아래에 들여쓰기된 2줄의 코드만이 조건문의 조건에 따라 수행될 수도, 수행되지 않을 수도 있는 코드라고 할 수 있음\n",
        " + 들여쓰기 된 코드를 블록(block), 또는 코드블록이라고 함\n",
        " + python에서 모든 블록의 시작점의 마지막에는 :(콜론, colon) 추가가 필요\n",
        "\n",
        "```python\n",
        "if 6 >= 5:\n",
        "    print ('6 is greater than 5')\n",
        "    print ('Yeah, it is true')\n",
        "print ('This code is not belongs to if statements')\n",
        "```"
      ]
    },
    {
      "cell_type": "code",
      "metadata": {
        "id": "wTUJOq21N8Vl"
      },
      "source": [
        "#indent"
      ],
      "execution_count": 1,
      "outputs": []
    },
    {
      "cell_type": "code",
      "metadata": {
        "id": "NYwOOI9kAYlr"
      },
      "source": [
        ""
      ],
      "execution_count": null,
      "outputs": []
    },
    {
      "cell_type": "markdown",
      "metadata": {
        "id": "5Yi_v8iFN__F"
      },
      "source": [
        "* Logical AND, OR, NOT \n",
        "  - 조건문에 사용되는 조건의 경우, boolean이기 때문에, 논리식 AND, OR, NOT 이 사용가능\n",
        "  - AND : and\n",
        "  - OR : or\n",
        "  - NOT : not\n",
        "  \n",
        "* 논리표 \n",
        "  - AND \n",
        "      - T AND T : T\n",
        "      - T AND F : F\n",
        "      - F AND T : F\n",
        "      - F AND F : F\n",
        "  - OR \n",
        "      - T OR T : T\n",
        "      - T OR F : T\n",
        "      - F OR T : T\n",
        "      - F OR F : F\n",
        "      \n",
        "  - NOT \n",
        "      - NOT T : F\n",
        "      - NOT F : T\n",
        "* 우선순위\n",
        "  - NOT > AND > OR"
      ]
    },
    {
      "cell_type": "code",
      "metadata": {
        "id": "wWU5nt2NOIrQ"
      },
      "source": [
        "a = 10\n",
        "b = 8\n",
        "c = 11"
      ],
      "execution_count": null,
      "outputs": []
    },
    {
      "cell_type": "code",
      "metadata": {
        "id": "btYnYSRXcjPx"
      },
      "source": [
        "#or and / priority"
      ],
      "execution_count": null,
      "outputs": []
    },
    {
      "cell_type": "code",
      "metadata": {
        "id": "wNa2m-fhdIHu"
      },
      "source": [
        "#not"
      ],
      "execution_count": null,
      "outputs": []
    },
    {
      "cell_type": "markdown",
      "metadata": {
        "id": "vlm0px7GOMgK"
      },
      "source": [
        "#### if의 조건이 bool이 아닌 경우\n",
        " * 일반적으로는 조건문에는 bool이 주로 위치 함\n",
        " * 하지만, 정수, 실수, 문자열 리스트 등 기본 타입도 조건에 사용 가능\n",
        " * False로 간주되는 값 (각 타입의 기본값)\n",
        "     * None\n",
        "     * 0\n",
        "     * 0.0\n",
        "     * ''\n",
        "     * [] -> 빈 리스트\n",
        "     * () -> 빈 튜플\n",
        "     * {} -> 빈 딕셔너리\n",
        "     * set() -> 빈 집합\n",
        " * 그밖에는 모두 True로 간주"
      ]
    },
    {
      "cell_type": "code",
      "metadata": {
        "id": "XT8KjQVwOS_w"
      },
      "source": [
        ""
      ],
      "execution_count": null,
      "outputs": []
    },
    {
      "cell_type": "markdown",
      "metadata": {
        "id": "TOS_UFScOTsv"
      },
      "source": [
        "#### if, else\n",
        "  - if가 아닌 경우, 나머지 조건을 표현하고 싶다면 바로 아래 else 블락 사용\n",
        "  - 이 경우, if조건이 True인 경우, if 블락의 코드가 수행, 거짓인 경우 else 블락의 코드가 수행\n",
        "  - 주의 할 점 : if와 else사이에 다른 코드 삽입 불가"
      ]
    },
    {
      "cell_type": "code",
      "metadata": {
        "id": "Bcl1fUXBOcMy"
      },
      "source": [
        "#binary"
      ],
      "execution_count": null,
      "outputs": []
    },
    {
      "cell_type": "markdown",
      "metadata": {
        "id": "hP21J4QKOc2e"
      },
      "source": [
        "#### if, elif, else\n",
        "  - 조건이 여러개인 경우, 다음 조건을 elif 블록에 명시 가능\n",
        "  - 이 경우, 각 조건을 확인 후, True인 조건의 코드 블락을 실행 한 후, 전체 if, elif, else 구문을 종료\n",
        "  - 조건문을 사용할 때는, if 이후, 0개 이상의 elif를 사용 가능하며 0개 또는 1개의 else를 사용 가능함\n",
        "\n",
        "```python\n",
        "a = 16\n",
        "if a % 4 == 0:\n",
        "    print('a is divisible by 4')\n",
        "elif a % 4 == 1:\n",
        "    print('a % 4 is 1')\n",
        "elif a % 4 == 2:\n",
        "    print('a % 4 is 2')\n",
        "else:\n",
        "    print('a % 4 is 3')\n",
        "```"
      ]
    },
    {
      "cell_type": "code",
      "metadata": {
        "id": "c8qP7hsLOgOX"
      },
      "source": [
        "#경우에 맞게 elif"
      ],
      "execution_count": 2,
      "outputs": []
    },
    {
      "cell_type": "code",
      "metadata": {
        "id": "kkK4pay7HAP5"
      },
      "source": [
        "#elif and if code block"
      ],
      "execution_count": null,
      "outputs": []
    },
    {
      "cell_type": "markdown",
      "metadata": {
        "id": "o_5SBHoGOkfS"
      },
      "source": [
        "#### 중첩 조건문(nested condition)\n",
        "  - 조건문의 경우 중첩하여 작성 가능\n",
        "  - 중첩의 의미는 depth(깊이)로 생각할 수 있으며, depth의 제한은 없음"
      ]
    },
    {
      "cell_type": "code",
      "metadata": {
        "id": "ft7egZCiOn-i"
      },
      "source": [
        ""
      ],
      "execution_count": null,
      "outputs": []
    },
    {
      "cell_type": "markdown",
      "metadata": {
        "id": "J9xBqA1mO50y"
      },
      "source": [
        "#**반복문의 이해 및 활용 (while)**"
      ]
    },
    {
      "cell_type": "markdown",
      "metadata": {
        "id": "y2mQj4g-O_gN"
      },
      "source": [
        "### loop (반복문)\n",
        " + 반복적인 작업을 가능하게 해주는 도구\n",
        " + 특정 조건을 만족하는 경우 수행할 수 있음 (while)\n",
        " + 리스트, 문자열, 튜플 등 컬렉션 타입의 아이템을 하나씩 순회하면서 사용 가능 (for)\n",
        " + 코드 작업에서, 가장 많이 사용하는 구문 중 하나\n",
        " + 주의할점: while을 사용할 경우, 반복을 멈추게 하는 장치가 필요\n",
        "   + 그렇지 않으면 셀이 무한히 수행되며, jupyter notebook의 재부팅이 필요"
      ]
    },
    {
      "cell_type": "markdown",
      "metadata": {
        "id": "T6PkJFgkPDX-"
      },
      "source": [
        "#### while 키워드\n",
        "  - while 뒤의 조건이 True일 경우, while 코드 블록을 계속 수행\n",
        "  - while 코드 블록\n",
        "    - if와 마찬가지로 while문 아래의 들여쓰기로 작성 된 부분을 의미\n",
        "  - 조건이 False가 되면 블록 수행을 멈추고 이후 코드를 실행"
      ]
    },
    {
      "cell_type": "markdown",
      "metadata": {
        "id": "QQG84cnbPIsx"
      },
      "source": [
        "#### while 키워드 이용하여 리스트의 아이템 출력하기"
      ]
    },
    {
      "cell_type": "code",
      "metadata": {
        "id": "gHVK108HPLHt"
      },
      "source": [
        "a = [1,2,3,20, 55, 70]"
      ],
      "execution_count": 4,
      "outputs": []
    },
    {
      "cell_type": "markdown",
      "metadata": {
        "id": "br8AU1RDPRKV"
      },
      "source": [
        "#### while 키워드 이용하여 리스트의 아이템 출력하기\n",
        " - 조건문과 함께 사용하기"
      ]
    },
    {
      "cell_type": "code",
      "metadata": {
        "id": "-eEUvV7SPTuM",
        "colab": {
          "base_uri": "https://localhost:8080/"
        },
        "outputId": "d947c6b6-2088-4421-d2aa-12daa483b982"
      },
      "source": [
        "i = 0 #index\n",
        "while i < len(a):\n",
        "  if a[i] > 20:\n",
        "    print(a[i], 'is bigger than 20')\n",
        "  i += 1"
      ],
      "execution_count": 9,
      "outputs": [
        {
          "output_type": "stream",
          "text": [
            "55 is bigger than 20\n",
            "70 is bigger than 20\n"
          ],
          "name": "stdout"
        }
      ]
    },
    {
      "cell_type": "markdown",
      "metadata": {
        "id": "1YbX7yGXPabc"
      },
      "source": [
        "#### 무한루프\n",
        " - while의 경우 종료가 되지 않도록 코드를 작성하면 블록에서 빠져나올 수 없음"
      ]
    },
    {
      "cell_type": "code",
      "metadata": {
        "id": "ySsDoJ7yPd77"
      },
      "source": [
        "while True:\n",
        "  print('hahah')"
      ],
      "execution_count": null,
      "outputs": []
    },
    {
      "cell_type": "markdown",
      "metadata": {
        "id": "VMphhbeWPgrd"
      },
      "source": [
        "#### break \n",
        " + loop를 중단할 때 사용\n",
        " + 보통 조건문 안에서 수행되며, 조건을 만족하는 경우 loop를 탈출하기 위해 사용\n",
        " + loop를 중단 하는 경우, while 이후의 코드를 수행"
      ]
    },
    {
      "cell_type": "code",
      "metadata": {
        "id": "5w2vqV2_PiRp",
        "colab": {
          "base_uri": "https://localhost:8080/"
        },
        "outputId": "f07c9706-5f14-4681-c8b8-62deaabf9f07"
      },
      "source": [
        "a = [1,2,3,4,5,20,35]\n",
        "i = 0\n",
        "while i < len(a):\n",
        "  if a[i] > 19:\n",
        "    break\n",
        "\n",
        "  print(a[i])\n",
        "  i += 1\n",
        "\n",
        "print('haha')"
      ],
      "execution_count": 19,
      "outputs": [
        {
          "output_type": "stream",
          "text": [
            "1\n",
            "2\n",
            "3\n",
            "4\n",
            "5\n",
            "haha\n"
          ],
          "name": "stdout"
        }
      ]
    },
    {
      "cell_type": "markdown",
      "metadata": {
        "id": "p5j-58jPPlpw"
      },
      "source": [
        "#### continue\n",
        " + break 처럼 반복을 중단하진 하여 빠져나오지 않고, 다시 while조건으로 점프함\n",
        " + 특정한 경우에는 코드를 수행하지 않고 다음으로 건너 뛰기 위해 사용"
      ]
    },
    {
      "cell_type": "code",
      "metadata": {
        "id": "0uAhW9pBPo9U"
      },
      "source": [
        ""
      ],
      "execution_count": null,
      "outputs": []
    },
    {
      "cell_type": "markdown",
      "metadata": {
        "id": "bdok9SwRbNrC"
      },
      "source": [
        "### 1에서 100까지 더하기"
      ]
    },
    {
      "cell_type": "code",
      "metadata": {
        "id": "xNW8SRARbSh0"
      },
      "source": [
        " "
      ],
      "execution_count": null,
      "outputs": []
    },
    {
      "cell_type": "markdown",
      "metadata": {
        "id": "daxcGzKvP2oO"
      },
      "source": [
        "#**반복문의 이해 및 활용 (for & range) 함수 이해**"
      ]
    },
    {
      "cell_type": "markdown",
      "metadata": {
        "id": "5Y2o9jNxRI2e"
      },
      "source": [
        "### for 반복문 \n",
        " - 리스트, 문자열 등등 순회 가능한 객체를 순회하면서 값을 처리할 때 사용\n",
        " - 아래와 같은 문법으로 사용\n",
        " - 여기서 i는 매번 수행 될 때마다, a의 아이템으로 순차적으로 변경 됨\n",
        " - 모든 아이템이 순회되면 for 블록 종료\n",
        " \n",
        "```python\n",
        "a = [1, 2, 4, 3, 5]\n",
        "for i in a:\n",
        "    print (i, i * 2)\n",
        "```"
      ]
    },
    {
      "cell_type": "code",
      "metadata": {
        "id": "yspKX-IOdsb1"
      },
      "source": [
        "#automatically cycle compare to while"
      ],
      "execution_count": null,
      "outputs": []
    },
    {
      "cell_type": "code",
      "metadata": {
        "id": "oPwmUV3wdtwY"
      },
      "source": [
        ""
      ],
      "execution_count": null,
      "outputs": []
    },
    {
      "cell_type": "markdown",
      "metadata": {
        "id": "3bvTy3KCRPdQ"
      },
      "source": [
        "#### 문자열의 아이템 출력하기\n",
        " - 문자열의 경우 순회 가능, 리스트의 유사하게 순회 가능"
      ]
    },
    {
      "cell_type": "code",
      "metadata": {
        "id": "_Mu9XOi0RSMx"
      },
      "source": [
        "#only index type can be cycled"
      ],
      "execution_count": null,
      "outputs": []
    },
    {
      "cell_type": "code",
      "metadata": {
        "id": "wIGJpgutc7zC"
      },
      "source": [
        ""
      ],
      "execution_count": null,
      "outputs": []
    },
    {
      "cell_type": "markdown",
      "metadata": {
        "id": "nF0i2USIRWTZ"
      },
      "source": [
        "#### 리스트 아이템 출력하기"
      ]
    },
    {
      "cell_type": "code",
      "metadata": {
        "id": "uByVIGPnRYBG"
      },
      "source": [
        ""
      ],
      "execution_count": null,
      "outputs": []
    },
    {
      "cell_type": "markdown",
      "metadata": {
        "id": "acoclSrqRbf0"
      },
      "source": [
        "#### dict의 아이템 출력하기\n",
        "  - dictionary의 경우 기본적으로 순회 하게 되면 key값을 참조\n",
        "  - keys()함수를 이용하여 key 값만 순회 가능\n",
        "  - values()함수를 이용하여 value 값만 순회 가능\n",
        "  - items()함수를 이용하여 tuple형태로 key, value 순회 가능"
      ]
    },
    {
      "cell_type": "code",
      "metadata": {
        "id": "9t9Na1KXRgWb"
      },
      "source": [
        ""
      ],
      "execution_count": null,
      "outputs": []
    },
    {
      "cell_type": "code",
      "metadata": {
        "id": "bfEXl1lPesDb"
      },
      "source": [
        ""
      ],
      "execution_count": null,
      "outputs": []
    },
    {
      "cell_type": "code",
      "metadata": {
        "id": "M-bvmVEEes5F"
      },
      "source": [
        ""
      ],
      "execution_count": null,
      "outputs": []
    },
    {
      "cell_type": "markdown",
      "metadata": {
        "id": "bPlnJGcyRlwc"
      },
      "source": [
        "#### for에서 index 사용하기\n",
        "  - 기본적으로 for에 리스트를 순회하는 경우, 값만 추출 함\n",
        "  - 아래와 같은 코드로 인덱스와 값 모두 사용 가능(enumerate 함수 이용)\n",
        "\n",
        "```python\n",
        "a = [1, 2, 4, 3, 5]\n",
        "for i, val in enumerate(a):\n",
        "    print i, val\n",
        "```"
      ]
    },
    {
      "cell_type": "code",
      "metadata": {
        "id": "Kqddre97RrGd"
      },
      "source": [
        ""
      ],
      "execution_count": null,
      "outputs": []
    },
    {
      "cell_type": "markdown",
      "metadata": {
        "id": "F6xrRL5KRu2s"
      },
      "source": [
        "####  break\n",
        "  - for의 경우에도 특정 조건일 때, loop 종료가 가능"
      ]
    },
    {
      "cell_type": "code",
      "metadata": {
        "id": "Tpb9nl3zSAbY"
      },
      "source": [
        ""
      ],
      "execution_count": null,
      "outputs": []
    },
    {
      "cell_type": "markdown",
      "metadata": {
        "id": "mdxD-yHxSDyy"
      },
      "source": [
        "#### continue\n",
        " - 해당 아이템을 건너 뛰고 싶을 때 사용"
      ]
    },
    {
      "cell_type": "code",
      "metadata": {
        "id": "hvpaoKE2SGY8"
      },
      "source": [
        ""
      ],
      "execution_count": null,
      "outputs": []
    },
    {
      "cell_type": "markdown",
      "metadata": {
        "id": "dx53Yyb6SMwJ"
      },
      "source": [
        "#### loop 중첩\n",
        "  - 반복문의 경우에도 중첩하여 사용 가능\n",
        "  - 중첩이라는 것은 반복문 블록의 코드안에 또 반복문의 코드가 작성되는 것을 의미\n",
        "  - 이런 경우, 내부 루프는 외부 루프가 수행되는 만큼 반복 수행 됨\n",
        "  - 또한 중첩의 경우 무한히 가능\n",
        "\n",
        "```python\n",
        "a = [1, 2, 4]\n",
        "for i in a:\n",
        "    for j in a:\n",
        "        print i * j\n",
        "```"
      ]
    },
    {
      "cell_type": "code",
      "metadata": {
        "id": "dO1qH6hsjGoU"
      },
      "source": [
        ""
      ],
      "execution_count": null,
      "outputs": []
    },
    {
      "cell_type": "markdown",
      "metadata": {
        "id": "BGpyrf2aSR2c"
      },
      "source": [
        "#### 구구단 출력하기"
      ]
    },
    {
      "cell_type": "code",
      "metadata": {
        "id": "xvXrwuIdScoO"
      },
      "source": [
        ""
      ],
      "execution_count": null,
      "outputs": []
    },
    {
      "cell_type": "markdown",
      "metadata": {
        "id": "Js6EBK0mSlSw"
      },
      "source": [
        "#### collection의 길이\n",
        " - len() 내장함수로 계산 가능\n",
        " - 내장함수란 파이썬 내부에 구현되어 있어서, import하지 않고도 사용 가능한 함수를 의미\n",
        " - abs, len, type, range 등이 있음 (과정 진행하면서 필요할 때마다 다룰 예정)"
      ]
    },
    {
      "cell_type": "code",
      "metadata": {
        "id": "kBlDNsVhSoz7"
      },
      "source": [
        ""
      ],
      "execution_count": null,
      "outputs": []
    },
    {
      "cell_type": "markdown",
      "metadata": {
        "id": "voJosKcFSsib"
      },
      "source": [
        "#### range 함수\n",
        "  - 리스트를 쉽게 만들 수 있는 내장함수\n",
        "  - 주어진 값에 따라 다양한 결과를 반환\n",
        " \n",
        "```python\n",
        "range(10)       -> [0, 1, 2, 3, 4, 5, 6, 7, 8, 9]\n",
        "range(2, 10)    -> [2, 3, 4, 5, 6, 7, 8, 9] \n",
        "range(2, 10, 3) -> [2, 5, 8] \n",
        "```"
      ]
    },
    {
      "cell_type": "markdown",
      "metadata": {
        "id": "wbyWwmn9Swk8"
      },
      "source": [
        "* 1 - 100까지의 리스트 생성하기"
      ]
    },
    {
      "cell_type": "code",
      "metadata": {
        "id": "WxK1nYOuSz_D"
      },
      "source": [
        ""
      ],
      "execution_count": null,
      "outputs": []
    },
    {
      "cell_type": "code",
      "metadata": {
        "id": "LgHEEDtcAQHh"
      },
      "source": [
        ""
      ],
      "execution_count": null,
      "outputs": []
    },
    {
      "cell_type": "code",
      "metadata": {
        "id": "2iepBEFXAPa9"
      },
      "source": [
        ""
      ],
      "execution_count": null,
      "outputs": []
    },
    {
      "cell_type": "markdown",
      "metadata": {
        "id": "hfMvQceOS8TK"
      },
      "source": [
        "* **연습문제** 1부터 100사이의 5의 배수만을 갖는 리스트를 생성하시오"
      ]
    },
    {
      "cell_type": "code",
      "metadata": {
        "id": "rW0wDH_ETA-j"
      },
      "source": [
        ""
      ],
      "execution_count": null,
      "outputs": []
    },
    {
      "cell_type": "markdown",
      "metadata": {
        "id": "qvWT6Sc0TDq7"
      },
      "source": [
        "### if & for 연습문제\n",
        "   \n",
        "  1. 구구단을 2 - 9단까지 출력하시오.\n",
        "  2. 1 - 100까지 정수 중 2의 배수 또는 11의 배수를 모두 출력하시오. \n",
        "  4. a = [22, 1, 3, 4, 7, 98, 21, 55, 87, 99, 19, 20, 45] 에서 최대값과 최소값을 찾으시오. (sorted, sort 사용 금지)\n",
        "  5. a = [22, 1, 3, 4, 7, 98, 21, 55, 87, 99, 19, 20, 45] 에서 평균을 구하세요.\n",
        "  "
      ]
    },
    {
      "cell_type": "code",
      "metadata": {
        "id": "q802trMFTHBx"
      },
      "source": [
        ""
      ],
      "execution_count": null,
      "outputs": []
    },
    {
      "cell_type": "markdown",
      "metadata": {
        "id": "W_Rbtv7uTa2b"
      },
      "source": [
        "#**함수의 이해와 함수 구현 및 사용 숙지**"
      ]
    },
    {
      "cell_type": "markdown",
      "metadata": {
        "id": "PbuqeQOsUGVn"
      },
      "source": [
        "### 함수?\n",
        "* 지금까지 무심코 코드에서 사용된 많은 함수들이 존재 합니다.\n",
        "* 예를들면, sum, len, range 같은 함수 등이 있죠.\n",
        "* 함수란 우리가 알고있는 개념처럼 주어진 입력(input)에 대해서 의도된 출력(output)를 전달하는 역할을 합니다.\n",
        "\n",
        "* 그렇다면, 하나씩 살펴보겠습니다.\n",
        "  > range 함수는 정수를 입력으로 전달하면 [0, 정수) 로 이루어진 리스트를 생성하는 역할을 합니다.\n",
        "  \n",
        "  > sum 함수는 리스트, 튜플등을 입력으로 전달하면 전체 아이템의 합을 출력으로 전달하는 역할을 합니다.\n",
        "  \n",
        "  > len 함수는 리스트, 튜플등을 입력으로 전달하면 아이템의 개수를 출력으로 전달하는 역할을 합니다.\n",
        "  \n",
        "* 그리고, 위의 함수들은 모두 python 내부에 이미 정의(구현)이 되어 있습니다.\n",
        "* 위와 같은 함수를 내장함수(built-in function)이라고 합니다."
      ]
    },
    {
      "cell_type": "code",
      "metadata": {
        "id": "FszFEiAhUMDW"
      },
      "source": [
        "# 내장 함수의 예"
      ],
      "execution_count": null,
      "outputs": []
    },
    {
      "cell_type": "markdown",
      "metadata": {
        "id": "we8FmS7LUQ8z"
      },
      "source": [
        "#### **함수의 정의**\n",
        "  + 정의 시 최초에 def 키워드 사용\n",
        "  + argument 정의 (함수에 입력으로 전달하는 값을 의미, argument 또는 parameter라고 함) \n",
        "  + : (콜론) -> 함수 역시 코드 블록이기 때문에 콜론(:) 필요\n",
        "  + body (함수의 구현 부분, 함수 역시 코드 블록이기 때문에 들여쓰기 된 부분까지 함수의 코드블록으로 인지 함)\n",
        "    - 함수를 호출한 코드 (caller)로 함수가 해당 기능을 수행하고 완료된 값(output)을 전달하기 위해 return 키워드 사용\n",
        "    - 즉, return 이후에 오는 값을 caller로 전달\n",
        "  + 함수의 네이밍 역시 중요\n",
        "    - 즉, 어떤 기능을 하는 함수인지 이름으로 최대한 나타날 수 있게 해야함\n",
        "    - e.g) get_a (x) get_student_name (o)"
      ]
    },
    {
      "cell_type": "code",
      "metadata": {
        "id": "AJvcGCf_UUUe"
      },
      "source": [
        ""
      ],
      "execution_count": null,
      "outputs": []
    },
    {
      "cell_type": "markdown",
      "metadata": {
        "id": "BdTQF2n9UY6A"
      },
      "source": [
        "#### **함수의 사용(호출)**\n",
        " + 함수명(파라미터1, 파라미터2, ... 파라미터n)\n",
        " + 위와 같이 정의 된 함수의 이름과 전달되는 parameter(인자)를 괄호안에 전달하여 함수를 호출\n",
        " + 함수가 호출되면 실행의 흐름이 호출자(caller)에서 함수(callee)로 변경 됨\n",
        " \n",
        " + 함수의 입력(인풋) 파라미터(parameter), 아규먼트(argument)라고도 함"
      ]
    },
    {
      "cell_type": "code",
      "metadata": {
        "id": "ZCbEzyDlUbXi"
      },
      "source": [
        ""
      ],
      "execution_count": null,
      "outputs": []
    },
    {
      "cell_type": "markdown",
      "metadata": {
        "id": "d2iTB1odUfyC"
      },
      "source": [
        "#### **함수 네이밍(naming)**\n",
        "  * 함수 이름으로부터 기능이 명시 \n",
        "  * 의미와 반대되거나 맞지 않는 이름은 사용금지"
      ]
    },
    {
      "cell_type": "code",
      "metadata": {
        "id": "rMcaNUuDUive"
      },
      "source": [
        ""
      ],
      "execution_count": null,
      "outputs": []
    },
    {
      "cell_type": "markdown",
      "metadata": {
        "id": "fKFkw_WrVKoG"
      },
      "source": [
        "#### **parameter(argument) (인자)**\n",
        " + 함수에 전달되는 입력(input)\n",
        " + 입력이 필요하지 않을 수도, 1개의 입력만 있을 수도, 여러개의 입력이 존재할 수 도 있음\n",
        " + 파라미터로 int, string, float, boolm, list, dict 등등 어떤 파이썬 객체도 전달 가능\n",
        " + 심지어, 함수도 함수의 파라미터로 전달 가능\n",
        " \n",
        " + python의 경우, 타입 명시가 없기 때문에, 함수 생성 시, 의도된 파라미터의 타입에 맞게 입력을 전달하는 것이 중요\n",
        " + 또한 파라미터를 전달 할 때, 정의된 순서에 따라 값을 전달하는 것이 중요\n"
      ]
    },
    {
      "cell_type": "code",
      "metadata": {
        "id": "uZF10xiVVQJd"
      },
      "source": [
        "#non arg & type"
      ],
      "execution_count": null,
      "outputs": []
    },
    {
      "cell_type": "markdown",
      "metadata": {
        "id": "-pjIY6h4VSHO"
      },
      "source": [
        "####  Default parameter (기본 인자) \n",
        " + 함수의 파라미터에 기본값 지정 가능\n",
        " + 파라미터를 명시하지 않을 경우, 지정된 기본값으로 대체"
      ]
    },
    {
      "cell_type": "code",
      "metadata": {
        "id": "XIG7Y7_pVWGt"
      },
      "source": [
        ""
      ],
      "execution_count": null,
      "outputs": []
    },
    {
      "cell_type": "markdown",
      "metadata": {
        "id": "yOQ9XZp9Vacm"
      },
      "source": [
        "* **기본 파라미터의 다른 예**\n",
        " - print 함수\n",
        "   - sep, end, file등 여러 기본 파라미터를 가짐 "
      ]
    },
    {
      "cell_type": "code",
      "metadata": {
        "id": "EgZYUC5NVZh3"
      },
      "source": [
        "print()"
      ],
      "execution_count": null,
      "outputs": []
    },
    {
      "cell_type": "markdown",
      "metadata": {
        "id": "ke5G5KpqVh50"
      },
      "source": [
        "####  Default parameter 사용 시 주의 점\n",
        "  * 디폴트 파라미터 뒤에 일반 파라미터가 위치할 수 없음\n",
        "  \n",
        "  * e.g) 올바른 예\n",
        "    > def test(a, b, c = 1)\n",
        "    \n",
        "    > def test(a, b = 1, c = 2)\n",
        "    \n",
        "    > def test(a = 1, b = 1, c = 3)\n",
        "    \n",
        "  * e.g) 올바르지 않은 예\n",
        "    > def test(a, b = 1, c)\n",
        "    \n",
        "    > def test(a = 1, b, c)\n",
        "    \n",
        "    > def test(a = 1, b = 1, c)"
      ]
    },
    {
      "cell_type": "code",
      "metadata": {
        "id": "_sO2F716Vl62"
      },
      "source": [
        ""
      ],
      "execution_count": null,
      "outputs": []
    },
    {
      "cell_type": "markdown",
      "metadata": {
        "id": "HgfTZAZLVo3G"
      },
      "source": [
        "#### **keyword parameter (키워드 파라미터)**\n",
        "  * 파이썬의 경우, 파라미터에 값을 전달 할 때, 파라미터의 이름을 명시하여 전달 가능\n",
        "  * 파라미터 이름을 사용하지 않을 경우, 기본적으로 순서에 맞게 전달"
      ]
    },
    {
      "cell_type": "code",
      "metadata": {
        "id": "EyfiYhGMVsIg"
      },
      "source": [
        ""
      ],
      "execution_count": null,
      "outputs": []
    },
    {
      "cell_type": "markdown",
      "metadata": {
        "id": "y0wOzAVqVxgF"
      },
      "source": [
        "#### **return (리턴)**\n",
        " + 기본적으로 함수의 종료를 명시\n",
        "   + return 옆에 값이나 수식이 있다면 해당 값을 호출자(caller)에게 반환(전달)\n",
        "   + return 만 존재하면 None 반환\n",
        "   + return이 없는 경우, 기본적으로 함수 코드 블록이 종료되면 종료로 간주. 이때도 None 반환"
      ]
    },
    {
      "cell_type": "code",
      "metadata": {
        "id": "wbkBpvzsVz4v"
      },
      "source": [
        ""
      ],
      "execution_count": null,
      "outputs": []
    },
    {
      "cell_type": "markdown",
      "metadata": {
        "id": "U_aRDg-HWNFT"
      },
      "source": [
        "#### **multiple return (복수 값 반환)**\n",
        " + tuple반환을 하여 복수개의 값 리턴 가능"
      ]
    },
    {
      "cell_type": "code",
      "metadata": {
        "id": "OCgMEbaGWPY8"
      },
      "source": [
        ""
      ],
      "execution_count": null,
      "outputs": []
    },
    {
      "cell_type": "markdown",
      "metadata": {
        "id": "JVwfSF0GWQG3"
      },
      "source": [
        "#### **variable scope (변수의 범위)** \n",
        " + 변수가 참조 가능한 코드상의 범위를 명시\n",
        " + 함수내의 변수는 자신이 속한 코드 블록이 종료되면 소멸됨\n",
        " + 이렇게 특정 코드 블록에서 선언된 변수를 **지역변수(local variable)** 이라고 함\n",
        " + 반대로 가장 상단에서 정의되어 프로그램 종료 전까지 유지되는 변수를 **전역변수(global variable)**이라고 함\n",
        " + 같은 이름의 지역변수와 전역변수가 존재할 경우, 지역변수의 우선순위가 더 높음"
      ]
    },
    {
      "cell_type": "code",
      "metadata": {
        "id": "z8eGfciaWS92"
      },
      "source": [
        ""
      ],
      "execution_count": null,
      "outputs": []
    },
    {
      "cell_type": "markdown",
      "metadata": {
        "id": "hDWSZDR7WVyi"
      },
      "source": [
        "#### **variable length argument (가변길이 인자)**\n",
        " - 전달되는 파라미터의 개수가 고정적이지 않은 경우 사용\n",
        " - e.g)\n",
        "   - print 함수\n",
        "   - format 함수\n",
        "  \n",
        "> ***args**,  ****kwargs**\n",
        "\n",
        "> ***args**    : 파라미터를 튜플의 형태로 전달\n",
        "\n",
        "> ****kwargs** : 파리미터를 딕셔너리 형태로 전달(네임드 파라미터)"
      ]
    },
    {
      "cell_type": "code",
      "metadata": {
        "id": "yZDMg1mZWY4h"
      },
      "source": [
        ""
      ],
      "execution_count": null,
      "outputs": []
    },
    {
      "cell_type": "markdown",
      "metadata": {
        "id": "QXt0IsUVWdL7"
      },
      "source": [
        "#### **keyword parameter (키워드 파라미터)**\n",
        " - \\**가 붙은 경우에는 키워드 파라미터로 인식\n",
        " - 즉 함수 호출 시, 파리미터의 이름과 값을 함께 전달 가능"
      ]
    },
    {
      "cell_type": "code",
      "metadata": {
        "id": "mwLgjjZnWfvd"
      },
      "source": [
        ""
      ],
      "execution_count": null,
      "outputs": []
    },
    {
      "cell_type": "markdown",
      "metadata": {
        "id": "ovG867JEWgdM"
      },
      "source": [
        "* 가변길이 함수의 대표적인 예\n",
        " **문자열 포맷 함수**\n",
        " - 여러가지 값과 포맷을 이용하여 문자열을 정의할 수 있는 함수\n",
        " - {} placeholder를 문자열 내에 위치 시킨 후, 해당 위치에 format함수로 전달된 값으로 대체하여 문자열 생성\n",
        " - 포맷 구성은 다음 링크 참조 : https://pyformat.info/"
      ]
    },
    {
      "cell_type": "code",
      "metadata": {
        "id": "tMHIHK9zWjlW"
      },
      "source": [
        ""
      ],
      "execution_count": null,
      "outputs": []
    },
    {
      "cell_type": "markdown",
      "metadata": {
        "id": "_BfonOPiXS8_"
      },
      "source": [
        "\n",
        "\n",
        "#**Lambda 함수 이해 및 사용**"
      ]
    },
    {
      "cell_type": "markdown",
      "metadata": {
        "id": "cYfz7TAlXXE8"
      },
      "source": [
        "* **Lambda 함수**\n",
        " + 단일문으로 표현되는 익명함수\n",
        " + 익명함수란 이름이 없는 구현체만 존재하는 간단한 함수를 의미\n",
        " + 코드 상에서 한번만 사용되는 기능이 있을 때, 굳이 함수로 만들지 않고 1회성으로 만들어서 쓸 때 사용."
      ]
    },
    {
      "cell_type": "code",
      "metadata": {
        "id": "Dt8YXJw2XZed"
      },
      "source": [
        ""
      ],
      "execution_count": null,
      "outputs": []
    },
    {
      "cell_type": "markdown",
      "metadata": {
        "id": "2LXkXCaTXbmV"
      },
      "source": [
        "#### **filter, map, reduce**\n",
        " + lambda가 유용하게 사용되는 3가지 대표적 함수\n",
        " + 함수형 프로그래밍의 기본 요소이기도 함\n",
        " + filter : 특정 조건을 만족하는 요소만 남기고 필터링\n",
        " + map    : 각 원소를 주어진 수식에 따라 변형하여 새로운 리스트를 반환\n",
        " + reduce : 차례대로 앞 2개의 원소를 가지고 연산. 연산의 결과가 또 다음 연산의 입력으로 진행됨. 따라서 마지막까지 진행되면 최종 출력은 한개의 값만 남게 됨"
      ]
    },
    {
      "cell_type": "code",
      "metadata": {
        "id": "F-6XRyxwXdRE"
      },
      "source": [
        ""
      ],
      "execution_count": null,
      "outputs": []
    },
    {
      "cell_type": "markdown",
      "metadata": {
        "id": "oL2jFCYpXfS7"
      },
      "source": [
        "\n",
        "#### 함수 연습문제\n",
        " 1. 주어진 숫자 리스트의 평균을 구하는 함수를 출력하시오\n",
        " 1. 해당 숫자가 소수인지 아닌지 판별하시오.\n",
        " 2. 2부터 해당 숫자사이에 소수가 몇개인지 출력하는 함수를 구하시오 "
      ]
    },
    {
      "cell_type": "code",
      "metadata": {
        "id": "5_d7cbgQXhSX"
      },
      "source": [
        ""
      ],
      "execution_count": null,
      "outputs": []
    },
    {
      "cell_type": "markdown",
      "metadata": {
        "id": "Tt_4TH0xfLZX"
      },
      "source": [
        "\n",
        "\n",
        "#**module의 이해 및 module import 하기**"
      ]
    },
    {
      "cell_type": "markdown",
      "metadata": {
        "id": "I1zuT3UUfPI4"
      },
      "source": [
        "### **모듈 임포트**\n",
        " + 그동안 사용했던 함수들 처럼, 다양한 기능들이 미리 함수로 구현되어 모듈 형태로 제공\n",
        " + 대표적으로 추후 과정에서 사용하게 될 아래의 모듈들이 존재\n",
        "\n",
        " + requests - HTTP 요청/응답 모듈\n",
        " + numpy - 수치해석 모듈 \n",
        " + pandas - 데이터 분석 모듈\n"
      ]
    },
    {
      "cell_type": "markdown",
      "metadata": {
        "id": "jt9w4r4xfUr7"
      },
      "source": [
        "#### import \n",
        " - import를 사용하여 해당 모듈 전체를 import"
      ]
    },
    {
      "cell_type": "code",
      "metadata": {
        "id": "YwYbhN9gfZHh"
      },
      "source": [
        ""
      ],
      "execution_count": null,
      "outputs": []
    },
    {
      "cell_type": "markdown",
      "metadata": {
        "id": "qqRie-IufagI"
      },
      "source": [
        "#### from import \n",
        " - 해당 모듈에서 특정한 타입만 import"
      ]
    },
    {
      "cell_type": "code",
      "metadata": {
        "id": "-Ai0UiSZferu"
      },
      "source": [
        ""
      ],
      "execution_count": null,
      "outputs": []
    },
    {
      "cell_type": "markdown",
      "metadata": {
        "id": "yfJ1qoy5fgmM"
      },
      "source": [
        "#### \\* 임포트\n",
        " - 해당 모듈내에 정의된 모든 것을 import\n",
        " - 일반적으로 사용이 권장되지 않음"
      ]
    },
    {
      "cell_type": "code",
      "metadata": {
        "id": "S7jNi2ZRfkXO"
      },
      "source": [
        ""
      ],
      "execution_count": null,
      "outputs": []
    },
    {
      "cell_type": "markdown",
      "metadata": {
        "id": "4vcFwJcSfnbb"
      },
      "source": [
        "#### as \n",
        " - 모듈 import 시, alias(별명) 지정가능\n",
        " "
      ]
    },
    {
      "cell_type": "code",
      "metadata": {
        "id": "xjvZPX_8fp4Z"
      },
      "source": [
        ""
      ],
      "execution_count": null,
      "outputs": []
    },
    {
      "cell_type": "markdown",
      "metadata": {
        "id": "tkaRDd60fydj"
      },
      "source": [
        "#**클래스와 오브젝트에 대한 이해**"
      ]
    },
    {
      "cell_type": "markdown",
      "metadata": {
        "id": "ti9fd42tf2Kn"
      },
      "source": [
        "#### **class란?**\n",
        " + 실세계의 것을 모델링하여 속성(attribute)와 동작(method)를 갖는 데이터 타입\n",
        " + python에서의 string, int, list, dict.. 모두가 다 클래스로 존재\n",
        " + 예를들어 학생이라는 클래스를 만든다면, 학생을 나타내는 속성과 학생이 행하는 행동을 함께 정의 할 수 있음\n",
        " + 따라서, 다루고자 하는 데이터(변수) 와 데이터를 다루는 연산(함수)를 하나로 캡슐화(encapsulation)하여 클래스로 표현\n",
        " + 모델링에서 중요시 하는 속성에 따라 클래스의 속성과 행동이 각각 달라짐"
      ]
    },
    {
      "cell_type": "code",
      "metadata": {
        "id": "NcmNxWZNf5ih"
      },
      "source": [
        ""
      ],
      "execution_count": null,
      "outputs": []
    },
    {
      "cell_type": "markdown",
      "metadata": {
        "id": "czXfFXoAf94C"
      },
      "source": [
        "#### **object 란?**\n",
        " - 클래스로 생성되어 구체화된 객체(인스턴스)\n",
        " - 파이썬의 모든 것(int, str, list..etc)은 객체(인스턴스)\n",
        " - 실제로 class가 인스턴스화 되어 메모리에 상주하는 상태를 의미\n",
        " - class가 빵틀이라면, object는 실제로 빵틀로 찍어낸 빵이라고 비유 가능\n"
      ]
    },
    {
      "cell_type": "code",
      "metadata": {
        "id": "E6JMJ0LygCHl"
      },
      "source": [
        ""
      ],
      "execution_count": null,
      "outputs": []
    },
    {
      "cell_type": "markdown",
      "metadata": {
        "id": "ify5mMztgFmq"
      },
      "source": [
        "#### **class 선언하기**\n",
        "  - 객체를 생성하기 위해선 객체의 모체가 되는 class를 미리 선언해야 함 "
      ]
    },
    {
      "cell_type": "code",
      "metadata": {
        "id": "XzEodyoHgMey"
      },
      "source": [
        ""
      ],
      "execution_count": null,
      "outputs": []
    },
    {
      "cell_type": "markdown",
      "metadata": {
        "id": "qNYe8xuFgPCR"
      },
      "source": [
        "#### __init__(self)\n",
        " + 생성자, 클래스 인스턴스가 생성될 때 호출됨\n",
        " + self인자는 항상 첫번째에 오며 자기 자신을 가리킴\n",
        " + 이름이 꼭 self일 필요는 없지만, 관례적으로 self로 사용\n",
        " \n",
        " + 생성자에서는 해당 클래스가 다루는 데이터를 정의\n",
        "   - 이 데이터를 멤버 변수(member variable) 또는 속성(attribute)라고 함"
      ]
    },
    {
      "cell_type": "code",
      "metadata": {
        "id": "CKkBBjNPgWBS"
      },
      "source": [
        ""
      ],
      "execution_count": null,
      "outputs": []
    },
    {
      "cell_type": "markdown",
      "metadata": {
        "id": "UWcyR_HygYz4"
      },
      "source": [
        "#### **mehtod 정의**\n",
        " + 멤버함수라고도 하며, 해당 클래스의 object에서만 호출가능\n",
        " + 메쏘드는 객체 레벨에서 호출되며, 해당 객체의 속성에 대한 연산을 행함\n",
        " + {obj}.{method}() 형태로 호출됨"
      ]
    },
    {
      "cell_type": "code",
      "metadata": {
        "id": "zyaMmzzcgbaS"
      },
      "source": [
        ""
      ],
      "execution_count": null,
      "outputs": []
    },
    {
      "cell_type": "markdown",
      "metadata": {
        "id": "uJKwOfJogfT2"
      },
      "source": [
        " #### **Class Inheritance (상속)**\n",
        "  - 기존에 정의해둔 클래스의 기능을 그대로 물려받을 수 있다.\n",
        "  - 기존 클래스에 기능 일부를 추가하거나, 변경하여 새로운 클래스를 정의한다.\n",
        "  - 코드를 재사용할 수 있게된다.\n",
        "  - 상속 받고자 하는 대상인 기존 클래스는 (Parent, Super, Base class 라고 부른다.)\n",
        "  - 상속 받는 새로운 클래스는(Child, Sub, Derived class 라고 부른다.)\n",
        "  - 의미적으로 is-a관계를 갖는다"
      ]
    },
    {
      "cell_type": "code",
      "metadata": {
        "id": "I0_esLJggiFH"
      },
      "source": [
        ""
      ],
      "execution_count": null,
      "outputs": []
    },
    {
      "cell_type": "markdown",
      "metadata": {
        "id": "FMnOXTL_gkzJ"
      },
      "source": [
        "#### **method override**\n",
        " - 부모 클래스의 method를 재정의(override)\n",
        " - 하위 클래스(자식 클래스) 의 인스턴스로 호출시, 재정의된 메소드가 호출됨"
      ]
    },
    {
      "cell_type": "code",
      "metadata": {
        "id": "lbNnbcINgmsS"
      },
      "source": [
        ""
      ],
      "execution_count": null,
      "outputs": []
    },
    {
      "cell_type": "markdown",
      "metadata": {
        "id": "gIubh7KfgqNc"
      },
      "source": [
        "#### super \n",
        " - 하위클래스(자식 클래스)에서 부모클래스의 method를 호출할 때 사용"
      ]
    },
    {
      "cell_type": "markdown",
      "metadata": {
        "id": "sY__LXaLg4s4"
      },
      "source": [
        "#### **self**\n",
        " - 파이썬의 method는 항상 첫번째 인자로 self를 전달\n",
        " - self는 현재 해당 메쏘드가 호출되는 객체 자신을 가리킴\n",
        " - C++/C#, Java의 this에 해당\n",
        " - 역시, 이름이 self일 필요는 없으나, 위치는 항상 맨 처음의 parameter이며 관례적으로 self로 사용"
      ]
    },
    {
      "cell_type": "code",
      "metadata": {
        "id": "qEcvHydPg-CP"
      },
      "source": [
        ""
      ],
      "execution_count": null,
      "outputs": []
    },
    {
      "cell_type": "markdown",
      "metadata": {
        "id": "6iTpHG4NhBjr"
      },
      "source": [
        "#### **method type**\n",
        " - instance method - 객체로 호출\n",
        "   - 메쏘드는 객체 레벨로 호출 되기 때문에, 해당 메쏘드를 호출한 객체에만 영향을 미침\n",
        " - class method    - class로 호출\n",
        "       - 클래스 메쏘드의 경우, 클래스 레벨로 호출되기 때문에, 클래스 멤버 변수만 변경 가능\n"
      ]
    },
    {
      "cell_type": "code",
      "metadata": {
        "id": "aPJhHB38hIjV"
      },
      "source": [
        ""
      ],
      "execution_count": null,
      "outputs": []
    },
    {
      "cell_type": "markdown",
      "metadata": {
        "id": "fQaUUfbagyP1"
      },
      "source": [
        "#### **special method**\n",
        " - __로 시작 __로 끝나는 특수 함수\n",
        " - 해당 메쏘드들을 구현하면, 커스텀 객체에 여러가지 파이썬 내장 함수나 연산자를 적용 가능\n",
        " - 오버라이딩 가능한 함수 목록은 아래 링크에서 참조 \n",
        "   - https://docs.python.org/3/reference/datamodel.html"
      ]
    },
    {
      "cell_type": "code",
      "metadata": {
        "id": "JDAnYYK8hRbu"
      },
      "source": [
        ""
      ],
      "execution_count": null,
      "outputs": []
    },
    {
      "cell_type": "markdown",
      "metadata": {
        "id": "TnKwtQdPhT0I"
      },
      "source": [
        "#### 연습문제)\n",
        " - 복소수 클래스를 정의 해봅시다.\n",
        " - 덧셈, 뺄셈, 곱셈 연산자 지원\n",
        " - 길이 (복소수의 크기) 지원 \n",
        " - 복소수 출력 '1 + 4j'와 같이 표현\n",
        " - 비교 연산 ==, != 지원\n",
        " - >=, <= , <, > 연산 지원\n",
        " - 절대값 지원\n"
      ]
    },
    {
      "cell_type": "code",
      "metadata": {
        "id": "TH3OyKSAhYuJ"
      },
      "source": [
        ""
      ],
      "execution_count": null,
      "outputs": []
    }
  ]
}